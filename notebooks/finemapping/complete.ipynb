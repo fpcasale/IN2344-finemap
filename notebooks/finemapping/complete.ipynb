{
 "cells": [
  {
   "cell_type": "code",
   "execution_count": 59,
   "id": "0f639cd1-1b63-4e0f-adb3-13389e9ef860",
   "metadata": {},
   "outputs": [],
   "source": [
    "import numpy as np\n",
    "import pdb\n",
    "from pandas_plink import read_plink\n",
    "from limix_lmm import LMM\n",
    "import pylab as pl"
   ]
  },
  {
   "cell_type": "markdown",
   "id": "0a3083ab-1003-46dd-8d4e-e63c2669f956",
   "metadata": {},
   "source": [
    "## Download and load genetic data"
   ]
  },
  {
   "cell_type": "code",
   "execution_count": 4,
   "id": "b5a2b923-2dbc-4f7c-b737-d26ede58a6d3",
   "metadata": {},
   "outputs": [
    {
     "name": "stderr",
     "output_type": "stream",
     "text": [
      "\n",
      "Mapping files:   0%|                                                                                                                      | 0/3 [00:00<?, ?it/s]\u001b[A\n",
      "Mapping files:   0%|                                                                                                                      | 0/3 [00:11<?, ?it/s]\u001b[A\n",
      "\n",
      "Mapping files: 100%|██████████████████████████████████████████████████████████████████████████████████████████████████████████████| 3/3 [00:00<00:00, 11.89it/s]\u001b[A\n"
     ]
    }
   ],
   "source": [
    "# load genetic data\n",
    "bfile = '../data/ALL.chr22_GRCh38.genotypes.20170504/ALL.chr22_GRCh38.genotypes.20170504'\n",
    "bim, fam, G = read_plink(bfile)"
   ]
  },
  {
   "cell_type": "code",
   "execution_count": 5,
   "id": "56ec6ad5-d324-4f87-8800-51613a3a8812",
   "metadata": {},
   "outputs": [],
   "source": [
    "def extract_region(bim, G, chrom, start, end):\n",
    "    I1 = bim['chrom']==str(chrom)\n",
    "    I2 = bim['pos'] > start\n",
    "    I3 = bim['pos'] < end\n",
    "    Ikeep = I1 * I2 * I3\n",
    "    bim = bim.loc[Ikeep].copy()\n",
    "    G = G[bim['i'].values]\n",
    "    bim['i'] = np.arange(len(bim))\n",
    "    return bim, G"
   ]
  },
  {
   "cell_type": "code",
   "execution_count": 6,
   "id": "18faa678-7905-44f4-89ea-8d83bc4c8222",
   "metadata": {},
   "outputs": [],
   "source": [
    "def subset_individuals(fam, G, keep_idxs):\n",
    "    fam = fam.iloc[keep_idxs]\n",
    "    G = G[:, keep_idxs]\n",
    "    return bim, G"
   ]
  },
  {
   "cell_type": "code",
   "execution_count": 7,
   "id": "65db7de6-6ede-4428-99f9-65fcd8e4521f",
   "metadata": {},
   "outputs": [],
   "source": [
    "# subset to 1000 individuals\n",
    "N = 1000\n",
    "np.random.seed(0)\n",
    "idxs = np.sort(np.random.permutation(fam.shape[0])[:N])\n",
    "fams, Gs = subset_individuals(fam, G, idxs)"
   ]
  },
  {
   "cell_type": "code",
   "execution_count": 8,
   "id": "176d0942-ee6c-4059-93d4-cccf5a8c6ed8",
   "metadata": {},
   "outputs": [],
   "source": [
    "# extract region\n",
    "chrom = 22\n",
    "start = 30797531\n",
    "size = 100000\n",
    "bimr, Gr = extract_region(bim, Gs, chrom, start, start + size)"
   ]
  },
  {
   "cell_type": "code",
   "execution_count": 9,
   "id": "95ef0841-8d48-49b5-9788-5b58f7e5d7d8",
   "metadata": {},
   "outputs": [],
   "source": [
    "# load genotype matrix\n",
    "X = Gr.compute().T"
   ]
  },
  {
   "cell_type": "markdown",
   "id": "99950e0b-55ab-4586-afe8-58fb07cb63e2",
   "metadata": {},
   "source": [
    "## Simulate pheno, perform local GWAS and compare groundtruth with GWAS results"
   ]
  },
  {
   "cell_type": "code",
   "execution_count": 10,
   "id": "2924baa9-338b-417a-8c6d-c86047ba02ad",
   "metadata": {},
   "outputs": [],
   "source": [
    "def simulate_pheno(X, idx_caus, var_expl, direction=None):\n",
    "    assert len(idx_caus)==len(var_expl)\n",
    "    \n",
    "    if direction is None:\n",
    "        direction = 2. * (np.random.rand(len(idx_caus))>0.5) - 1.\n",
    "    assert len(idx_caus)==len(direction)\n",
    "    \n",
    "    # generate phenotype\n",
    "    ve = 1 - var_expl.sum()\n",
    "    assert ve>0, 'sum(var_expl) should be < 1'\n",
    "    beta = np.sqrt(var_expl) * direction\n",
    "    Xc = X[:, idx_caus]\n",
    "    Xc = (Xc - Xc.mean(0)) / Xc.std(0)\n",
    "    yg = Xc.dot(beta)[:, None]\n",
    "    yn = np.sqrt(ve) * np.random.randn(X.shape[0], 1)\n",
    "    y =  yg + yn\n",
    "    \n",
    "    # define beta real\n",
    "    beta_real = np.zeros(X.shape[1])\n",
    "    beta_real[idx_caus] = beta\n",
    "    \n",
    "    # standardize y and renormalize beta_real accordingly\n",
    "    ystd = y.std()\n",
    "    y = (y - y.mean()) / ystd\n",
    "    beta_real = beta_real / ystd\n",
    "    \n",
    "    return y, beta_real"
   ]
  },
  {
   "cell_type": "code",
   "execution_count": 49,
   "id": "df43cec6-2e4e-46ec-b1ba-58c77acfda35",
   "metadata": {},
   "outputs": [],
   "source": [
    "# generate phenotype\n",
    "n_causal = 1\n",
    "idx_caus = np.random.choice(X.shape[1], size=n_causal)\n",
    "var_expl = np.array([0.05])\n",
    "y, beta_real = simulate_pheno(X, idx_caus, var_expl)"
   ]
  },
  {
   "cell_type": "code",
   "execution_count": 50,
   "id": "86e80dab-2df9-4967-9a89-9c5cf65af1df",
   "metadata": {},
   "outputs": [],
   "source": [
    "# perform genetic association testing \n",
    "F = np.ones_like(y)\n",
    "lmm = LMM(y, F)\n",
    "lmm.process(X)\n",
    "pv = lmm.getPv()\n",
    "beta = lmm.getBetaSNP()\n",
    "beta_ste = lmm.getBetaSNPste()"
   ]
  },
  {
   "cell_type": "code",
   "execution_count": 51,
   "id": "adcf22b5-9eeb-41f9-9970-4925544c7d26",
   "metadata": {},
   "outputs": [
    {
     "data": {
      "image/png": "[encoded data removed]",
      "text/plain": [
       "<Figure size 432x288 with 2 Axes>"
      ]
     },
     "metadata": {
      "needs_background": "light"
     },
     "output_type": "display_data"
    }
   ],
   "source": [
    "# plot ground truth and results\n",
    "x = bimr['pos'].values\n",
    "pl.subplot(211)\n",
    "pl.title('Real effect size')\n",
    "pl.plot(x, beta_real, '.k')\n",
    "pl.ylabel('eff size')\n",
    "pl.subplot(212)\n",
    "pl.title('GWAS results')\n",
    "pl.plot(x, -np.log10(pv), '.k')\n",
    "pl.ylabel('-log$_{10}$ P')\n",
    "pl.tight_layout()"
   ]
  },
  {
   "cell_type": "markdown",
   "id": "17239948-c3c7-4a1e-a751-1aff4cec3d73",
   "metadata": {},
   "source": [
    "## Perform conditional analysis"
   ]
  },
  {
   "cell_type": "code",
   "execution_count": 52,
   "id": "4d6d1820-89e8-4637-a34d-ad5d751c9353",
   "metadata": {},
   "outputs": [],
   "source": [
    "# first step\n",
    "F = np.ones_like(y)\n",
    "lmm = LMM(y, F)\n",
    "lmm.process(X)\n",
    "pv0 = lmm.getPv()\n",
    "idx = np.argmin(pv)\n",
    "\n",
    "# second step\n",
    "F = np.concatenate([np.ones_like(y), X[:,[idx]]], 1)\n",
    "lmm = LMM(y, F)\n",
    "lmm.process(X)\n",
    "pv1 = lmm.getPv()"
   ]
  },
  {
   "cell_type": "code",
   "execution_count": 53,
   "id": "91ecd896-433f-4771-be46-acf1c0b8c3f2",
   "metadata": {},
   "outputs": [
    {
     "data": {
      "image/png": "[encoded data removed]",
      "text/plain": [
       "<Figure size 504x576 with 3 Axes>"
      ]
     },
     "metadata": {
      "needs_background": "light"
     },
     "output_type": "display_data"
    }
   ],
   "source": [
    "# plot ground truth and results\n",
    "pl.figure(1, figsize=(7, 8))\n",
    "x = bimr['pos'].values\n",
    "pl.subplot(311)\n",
    "pl.title('Real effect size')\n",
    "pl.plot(x, beta_real, '.k')\n",
    "pl.ylabel('eff size')\n",
    "pl.subplot(312)\n",
    "pl.title('First step')\n",
    "pl.plot(x, -np.log10(pv0), '.k')\n",
    "pl.ylabel('-log$_{10}$ P')\n",
    "pl.tight_layout()\n",
    "pl.subplot(313)\n",
    "pl.title('Second step')\n",
    "pl.plot(x, -np.log10(pv1), '.k')\n",
    "pl.ylabel('-log$_{10}$ P')\n",
    "pl.tight_layout()"
   ]
  },
  {
   "cell_type": "markdown",
   "id": "9fb2d0b9-7ffd-4c10-94e2-13d5ca223cb0",
   "metadata": {},
   "source": [
    "## Compute Bayes Factors"
   ]
  },
  {
   "cell_type": "markdown",
   "id": "dcd2f926-6b08-4eca-b17f-57c9bce56ce5",
   "metadata": {},
   "source": [
    "$ABF=\\sqrt{1-r}\\times\\text{exp}(\\frac12Z^2\\times{r})$"
   ]
  },
  {
   "cell_type": "markdown",
   "id": "01e8c44c-4efa-4c28-a7a8-1ac6db829cb3",
   "metadata": {},
   "source": [
    "$Z=\\frac{\\beta}{\\sqrt{V}}$"
   ]
  },
  {
   "cell_type": "markdown",
   "id": "0c195ab4-b8ee-4426-bd6f-34ec55fe5666",
   "metadata": {},
   "source": [
    "$r = \\frac{W}{V+W}$"
   ]
  },
  {
   "cell_type": "markdown",
   "id": "cb5bfef5-9352-45bd-a631-673fc156ea45",
   "metadata": {},
   "source": [
    "$V=\\text{Var}(\\hat{\\beta}_j)=\\frac{1}{N\\text{var}(y)2f_j(1-f_j)}$"
   ]
  },
  {
   "cell_type": "code",
   "execution_count": 54,
   "id": "37e412e1-500f-4528-a662-e98caa22bff3",
   "metadata": {},
   "outputs": [],
   "source": [
    "def compute_ABF(beta, f, N, W=0.15**2):\n",
    "    V = 1 / (X.shape[0] * 2 * f * (1 - f))\n",
    "    r = W / (V + W)\n",
    "    Z = beta / np.sqrt(V)\n",
    "    ABF = np.sqrt(1 - r) * np.exp(0.5 * Z**2 * r)\n",
    "    return ABF"
   ]
  },
  {
   "cell_type": "code",
   "execution_count": 55,
   "id": "3d63dc7b-9d5d-4b11-8fa8-bdd5a5b15114",
   "metadata": {},
   "outputs": [],
   "source": [
    "def compute_ABF1(beta, ste, W=0.15**2):\n",
    "    V = ste**2\n",
    "    r = W / (V + W)\n",
    "    Z = beta / np.sqrt(V)\n",
    "    ABF = np.sqrt(1 - r) * np.exp(0.5 * Z**2 * r)\n",
    "    return ABF"
   ]
  },
  {
   "cell_type": "code",
   "execution_count": 56,
   "id": "a82041a1-7146-49fa-b28c-d4bbb8fda19d",
   "metadata": {},
   "outputs": [],
   "source": [
    "# ABF and PIP\n",
    "ABF = compute_ABF1(beta, beta_ste)\n",
    "PIP = ABF / ABF.sum()"
   ]
  },
  {
   "cell_type": "code",
   "execution_count": 57,
   "id": "7b5c0db6-0341-464f-a7cf-f4557a874e72",
   "metadata": {},
   "outputs": [],
   "source": [
    "# Credible set\n",
    "def compute_cs(PIP):\n",
    "    idxs = np.argsort(PIP)[::-1]\n",
    "    _upto = np.where(PIP[idxs].cumsum()>0.95)[0][0] + 1\n",
    "    Ics = idxs[:_upto]\n",
    "    return Ics"
   ]
  },
  {
   "cell_type": "code",
   "execution_count": 58,
   "id": "50083032-a2ec-419d-8970-568039517ff3",
   "metadata": {},
   "outputs": [
    {
     "data": {
      "image/png": "[encoded data removed]",
      "text/plain": [
       "<Figure size 504x576 with 3 Axes>"
      ]
     },
     "metadata": {
      "needs_background": "light"
     },
     "output_type": "display_data"
    }
   ],
   "source": [
    "# plot ground truth and results\n",
    "pl.figure(1, figsize=(7, 8))\n",
    "x = bimr['pos'].values\n",
    "pl.subplot(311)\n",
    "pl.title('Real effect size')\n",
    "pl.plot(x, beta_real, '.k')\n",
    "pl.ylabel('eff size')\n",
    "pl.subplot(312)\n",
    "pl.title('Manhattan')\n",
    "pl.plot(x, -np.log10(pv0), '.k')\n",
    "pl.ylabel('-log$_{10}$ P')\n",
    "pl.tight_layout()\n",
    "pl.subplot(313)\n",
    "pl.title('Posterior inclusion probability (and credible set)')\n",
    "pl.plot(x, PIP, '.k')\n",
    "Ics = compute_cs(PIP)\n",
    "pl.plot(x[Ics], PIP[Ics], '.r')\n",
    "pl.ylabel('PIP')\n",
    "pl.tight_layout()"
   ]
  },
  {
   "cell_type": "markdown",
   "id": "3222c631-1967-4cd9-a0b4-ae51956c0e4d",
   "metadata": {},
   "source": [
    "## Susie algorithm based on the SER model"
   ]
  },
  {
   "cell_type": "markdown",
   "id": "331ce8a5-8d6a-428c-8de7-8e8740e1cb70",
   "metadata": {},
   "source": [
    "Under the SER model one can show that the posterior probabilities for $b$ and $\\boldsymbol{\\gamma}$ are"
   ]
  },
  {
   "cell_type": "markdown",
   "id": "1a93e6e1-f40f-40fd-beca-8d569efbdd75",
   "metadata": {},
   "source": [
    "$b|\\mathbf{y}, \\mathbf{X}, \\sigma^2, \\sigma^2_0\\sim\\mathcal{N}(\\mu_1, \\sigma^2_1)$"
   ]
  },
  {
   "cell_type": "markdown",
   "id": "cd0dfbee-e89d-43f2-8527-d98d8e93039d",
   "metadata": {},
   "source": [
    "$\\boldsymbol{\\gamma}|\\mathbf{y}, \\mathbf{X}, \\sigma^2, \\sigma^2_0\\sim\\text{Mult}(1, \\boldsymbol{\\pi})$"
   ]
  },
  {
   "cell_type": "markdown",
   "id": "4da1d0d4-9254-4da6-839a-19705d82fad6",
   "metadata": {},
   "source": [
    "Where $\\boldsymbol{\\pi}$, $\\mu_1$ and $\\sigma_1^2$ can all be computed from single-variant regression summary stats. Specifically, $\\boldsymbol{\\pi}$ is the PIP we computed in the previous section. In the following, we provide a function that enables computation of $\\boldsymbol{\\pi}$, $\\mu_1$ and $\\sigma_1^2$. We will use this function to implement the full SuSiE algorithm."
   ]
  },
  {
   "cell_type": "code",
   "execution_count": 255,
   "id": "ff89e6f9-5f2e-4908-941c-88c7d0c54b0d",
   "metadata": {},
   "outputs": [],
   "source": [
    "# while the full SuSiE algorithm enable optimization of sigma2 and sigma2_0,\n",
    "# we here consider a version where they have fixed values (priors)\n",
    "def SER(X, y, sigma2_0=0.15**2, sigma2=1):\n",
    "    \n",
    "    # fit single-variant regression model\n",
    "    F = np.ones_like(y)\n",
    "    lmm = LMM(y, F)\n",
    "    lmm.process(X)\n",
    "    pv = lmm.getPv()\n",
    "    beta = lmm.getBetaSNP()\n",
    "    ste = lmm.getBetaSNPste()\n",
    "    \n",
    "    # compute pi, mu_1 and sigma2_1\n",
    "    ABF = compute_ABF1(beta, ste)\n",
    "    pi = ABF / ABF.sum()\n",
    "    sigma2_1 = 1 / (1 / ste**2 + 1 / sigma2_0)\n",
    "    mu_1 = sigma2_1 / ste**2 * beta\n",
    "    \n",
    "    return pi, mu_1, sigma2_1"
   ]
  },
  {
   "cell_type": "code",
   "execution_count": 260,
   "id": "ab60a662-c361-4c01-bf32-8b363399e024",
   "metadata": {},
   "outputs": [],
   "source": [
    "# generate phenotype\n",
    "n_causal = 2\n",
    "idx_caus = np.random.choice(X.shape[1], size=n_causal)\n",
    "var_expl = np.array([0.05, 0.05])\n",
    "y, beta_real = simulate_pheno(X, idx_caus, var_expl)"
   ]
  },
  {
   "cell_type": "code",
   "execution_count": 261,
   "id": "bc8834d8-a848-45d2-804b-361ab3ab132b",
   "metadata": {},
   "outputs": [],
   "source": [
    "# Fit SuSiE model\n",
    "def fit_susie(X, y, L=2, iters=100):\n",
    "    B = np.zeros([X.shape[1], L])\n",
    "    A = np.zeros([X.shape[1], L])\n",
    "    M = np.zeros([X.shape[1], L])\n",
    "    V = np.zeros([X.shape[1], L])\n",
    "    for _iter in range(iters):\n",
    "        for l in range(L):\n",
    "            r = y.copy()\n",
    "            for l1 in range(L):\n",
    "                if l1==l: continue\n",
    "                r = r - np.dot(X, B[:,[l1]])\n",
    "            A[:,l], M[:,l], V[:,l] = SER(X, r, sigma2)\n",
    "            B[:,l] = A[:,l] * M[:,l]\n",
    "    return A, B"
   ]
  },
  {
   "cell_type": "code",
   "execution_count": 262,
   "id": "4cbe2f15-b8fc-4787-898a-237954ffc94c",
   "metadata": {},
   "outputs": [],
   "source": [
    "A, B = fit_susie(X, y)"
   ]
  },
  {
   "cell_type": "code",
   "execution_count": 263,
   "id": "427dfe87-5e4f-4f72-a6d3-c90a4c462a2c",
   "metadata": {},
   "outputs": [
    {
     "data": {
      "image/png": "[encoded data removed]",
      "text/plain": [
       "<Figure size 504x576 with 3 Axes>"
      ]
     },
     "metadata": {
      "needs_background": "light"
     },
     "output_type": "display_data"
    }
   ],
   "source": [
    "# plot ground truth and results\n",
    "pl.figure(1, figsize=(7, 8))\n",
    "x = bimr['pos'].values\n",
    "pl.subplot(311)\n",
    "pl.title('Real effect size')\n",
    "pl.plot(x, beta_real, '.k')\n",
    "pl.ylabel('eff size')\n",
    "pl.subplot(312)\n",
    "pl.title('Posterior inclusion probability (signal 1)')\n",
    "pl.plot(x, A[:,0], '.k')\n",
    "Ics = compute_cs(A[:,0])\n",
    "pl.plot(x[Ics], A[Ics,0], '.r')\n",
    "pl.ylabel('PIP')\n",
    "pl.subplot(313)\n",
    "pl.title('Posterior inclusion probability (signal 2)')\n",
    "pl.plot(x, A[:,1], '.k')\n",
    "Ics = compute_cs(A[:,1])\n",
    "pl.plot(x[Ics], A[Ics,1], '.r')\n",
    "pl.ylabel('PIP')\n",
    "pl.tight_layout()"
   ]
  },
  {
   "cell_type": "markdown",
   "id": "28a6d2c4-8843-4412-aa59-571abef0c2ab",
   "metadata": {},
   "source": [
    "## Colocalization"
   ]
  },
  {
   "cell_type": "code",
   "execution_count": 103,
   "id": "15316a51-7c67-4422-98df-b0a14e074bc6",
   "metadata": {},
   "outputs": [],
   "source": [
    "def genpheno(X, idx, var, direction=None):\n",
    "    \n",
    "    if direction is None: direction = 2. * (np.random.rand()>0.5) - 1.\n",
    "    \n",
    "    ve = 1 - var\n",
    "    beta = np.sqrt(var) * direction\n",
    "    Xc = X[:, [idx]]\n",
    "    Xc = (Xc - Xc.mean(0)) / Xc.std(0)\n",
    "    yg = Xc * beta\n",
    "    yn = np.sqrt(ve) * np.random.randn(X.shape[0], 1)\n",
    "    y =  yg + yn\n",
    "    \n",
    "    y = (y - y.mean()) / y.std()\n",
    "    \n",
    "    return y"
   ]
  },
  {
   "cell_type": "code",
   "execution_count": 163,
   "id": "ef68b558-bc50-46e0-bce5-8e6a75df13db",
   "metadata": {},
   "outputs": [],
   "source": [
    "# split X in two sets\n",
    "X1 = X[:500, :]\n",
    "X2 = X[500:, :]"
   ]
  },
  {
   "cell_type": "code",
   "execution_count": 164,
   "id": "4bd94a8a-3948-46c8-8c89-cda002aa6fe7",
   "metadata": {},
   "outputs": [],
   "source": [
    "# generate eqtl and GWAS signal\n",
    "idx = np.random.choice(X.shape[1], size=1)[0]\n",
    "y1 = genpheno(X1, idx, 1e-1)\n",
    "y2 = genpheno(X2, idx, 1e-1)"
   ]
  },
  {
   "cell_type": "code",
   "execution_count": 165,
   "id": "878149a3-dd4b-4d28-b983-ef38e1ee7775",
   "metadata": {},
   "outputs": [],
   "source": [
    "# fit single-variant regression model pheno1\n",
    "F = np.ones_like(y1)\n",
    "lmm = LMM(y1, F)\n",
    "lmm.process(X1)\n",
    "pv1 = lmm.getPv()\n",
    "beta1 = lmm.getBetaSNP()\n",
    "ste1 = lmm.getBetaSNPste()"
   ]
  },
  {
   "cell_type": "code",
   "execution_count": 166,
   "id": "efe3afc5-aa69-41b4-89a7-aff9c212c32e",
   "metadata": {},
   "outputs": [],
   "source": [
    "# fit single-variant regression model pheno2\n",
    "F = np.ones_like(y2)\n",
    "lmm = LMM(y2, F)\n",
    "lmm.process(X2)\n",
    "pv2 = lmm.getPv()\n",
    "beta2 = lmm.getBetaSNP()\n",
    "ste2 = lmm.getBetaSNPste()"
   ]
  },
  {
   "cell_type": "code",
   "execution_count": 167,
   "id": "5b55732e-e494-4188-8aff-f14faaf8da47",
   "metadata": {},
   "outputs": [
    {
     "data": {
      "image/png": "[encoded data removed]",
      "text/plain": [
       "<Figure size 432x288 with 2 Axes>"
      ]
     },
     "metadata": {
      "needs_background": "light"
     },
     "output_type": "display_data"
    }
   ],
   "source": [
    "# plot ground truth and results\n",
    "x = bimr['pos'].values\n",
    "pl.subplot(211)\n",
    "pl.title('eQTL results')\n",
    "pl.plot(x, -np.log10(pv1), '.k')\n",
    "pl.plot(x[idx], -np.log10(pv1[idx]), '.r')\n",
    "pl.ylabel('-log$_{10}$ P')\n",
    "pl.subplot(212)\n",
    "pl.title('GWAS results')\n",
    "pl.plot(x, -np.log10(pv2), '.k')\n",
    "pl.plot(x[idx], -np.log10(pv2[idx]), '.r')\n",
    "pl.ylabel('-log$_{10}$ P')\n",
    "pl.tight_layout()"
   ]
  },
  {
   "cell_type": "code",
   "execution_count": 168,
   "id": "c37adac9-a1f8-4b44-9e28-b929b52b618e",
   "metadata": {},
   "outputs": [],
   "source": [
    "# setting prior probabilities\n",
    "p1 = p2 = 1e-4 # probability that trait1/2 is affected\n",
    "p12 = 1e-6 # probability that they are affected by the same variant\n",
    "# with this settings:\n",
    "# P(trait 1 is affected by variant that is associated with trait 2) = p12 / (p12 + p2) = 1%"
   ]
  },
  {
   "cell_type": "code",
   "execution_count": 169,
   "id": "d8cc1dda-d4fb-41ef-b632-2e0a1d55baa5",
   "metadata": {},
   "outputs": [],
   "source": [
    "def compute_posterior(beta1, ste1, beta2, ste2):\n",
    "    ABF1 = compute_ABF1(beta1, ste1)\n",
    "    ABF2 = compute_ABF1(beta2, ste2)\n",
    "    P_H0 = 1\n",
    "    P_H1 = p1 * ABF1.sum()\n",
    "    P_H2 = p2 * ABF2.sum()\n",
    "    Matrix = (ABF1[:, None]*ABF2)\n",
    "    P_H4 = p12 * Matrix.diagonal().sum()\n",
    "    P_H3 = p1*p2*(Matrix - np.diag(Matrix.diagonal())).sum()\n",
    "    posterior = np.array([P_H0, P_H1, P_H2, P_H3, P_H4])\n",
    "    posterior = posterior / posterior.sum()\n",
    "    return posterior"
   ]
  },
  {
   "cell_type": "code",
   "execution_count": 170,
   "id": "93579c7f-12b9-4b9f-baa4-ad7b6f8879f6",
   "metadata": {},
   "outputs": [
    {
     "data": {
      "text/plain": [
       "array([7.06487660e-16, 3.34078530e-09, 2.48250789e-09, 1.75666185e-03,\n",
       "       9.98243332e-01])"
      ]
     },
     "execution_count": 170,
     "metadata": {},
     "output_type": "execute_result"
    }
   ],
   "source": [
    "posterior = compute_posterior(beta1, ste1, beta2, ste2)\n",
    "posterior"
   ]
  },
  {
   "cell_type": "code",
   "execution_count": 148,
   "id": "c38baaa9-90f2-4bb5-b8cc-4d399cd1790f",
   "metadata": {},
   "outputs": [],
   "source": []
  },
  {
   "cell_type": "code",
   "execution_count": null,
   "id": "33d327ff-ccdc-4453-af5a-e186db28ac8d",
   "metadata": {},
   "outputs": [],
   "source": []
  }
 ],
 "metadata": {
  "kernelspec": {
   "display_name": "Python 3 (ipykernel)",
   "language": "python",
   "name": "python3"
  },
  "language_info": {
   "codemirror_mode": {
    "name": "ipython",
    "version": 3
   },
   "file_extension": ".py",
   "mimetype": "text/x-python",
   "name": "python",
   "nbconvert_exporter": "python",
   "pygments_lexer": "ipython3",
   "version": "3.9.7"
  }
 },
 "nbformat": 4,
 "nbformat_minor": 5
}
