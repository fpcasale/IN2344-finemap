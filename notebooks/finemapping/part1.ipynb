{
 "cells": [
  {
   "cell_type": "code",
   "execution_count": 91,
   "id": "0f639cd1-1b63-4e0f-adb3-13389e9ef860",
   "metadata": {},
   "outputs": [],
   "source": [
    "import numpy as np\n",
    "import pdb\n",
    "from pandas_plink import read_plink\n",
    "from limix_lmm import LMM\n",
    "import pylab as pl"
   ]
  },
  {
   "cell_type": "markdown",
   "id": "0a3083ab-1003-46dd-8d4e-e63c2669f956",
   "metadata": {},
   "source": [
    "## Download and load genetic data"
   ]
  },
  {
   "cell_type": "code",
   "execution_count": 56,
   "id": "b5a2b923-2dbc-4f7c-b737-d26ede58a6d3",
   "metadata": {},
   "outputs": [
    {
     "name": "stderr",
     "output_type": "stream",
     "text": [
      "Mapping files: 100%|█████████████████████████████████████████████████████████████████████████████████████| 3/3 [00:00<00:00, 11.48it/s]\n"
     ]
    }
   ],
   "source": [
    "# load genetic data\n",
    "bfile = '../data/ALL.chr22_GRCh38.genotypes.20170504'\n",
    "bim, fam, G = read_plink(bfile)"
   ]
  },
  {
   "cell_type": "code",
   "execution_count": 57,
   "id": "56ec6ad5-d324-4f87-8800-51613a3a8812",
   "metadata": {},
   "outputs": [],
   "source": [
    "def extract_region(bim, G, chrom, start, end):\n",
    "    I1 = bim['chrom']==str(chrom)\n",
    "    I2 = bim['pos'] > start\n",
    "    I3 = bim['pos'] < end\n",
    "    Ikeep = I1 * I2 * I3\n",
    "    bim = bim.loc[Ikeep].copy()\n",
    "    G = G[bim['i'].values]\n",
    "    bim['i'] = np.arange(len(bim))\n",
    "    return bim, G"
   ]
  },
  {
   "cell_type": "code",
   "execution_count": 58,
   "id": "18faa678-7905-44f4-89ea-8d83bc4c8222",
   "metadata": {},
   "outputs": [],
   "source": [
    "def subset_individuals(fam, G, keep_idxs):\n",
    "    fam = fam.iloc[keep_idxs]\n",
    "    G = G[:, keep_idxs]\n",
    "    return bim, G"
   ]
  },
  {
   "cell_type": "code",
   "execution_count": 59,
   "id": "65db7de6-6ede-4428-99f9-65fcd8e4521f",
   "metadata": {},
   "outputs": [],
   "source": [
    "# subset to 1000 individuals\n",
    "N = 1000\n",
    "np.random.seed(0)\n",
    "idxs = np.sort(np.random.permutation(fam.shape[0])[:N])\n",
    "fams, Gs = subset_individuals(fam, G, idxs)"
   ]
  },
  {
   "cell_type": "code",
   "execution_count": 60,
   "id": "176d0942-ee6c-4059-93d4-cccf5a8c6ed8",
   "metadata": {},
   "outputs": [],
   "source": [
    "# extract region\n",
    "chrom = 22\n",
    "start = 30797531\n",
    "size = 100000\n",
    "bimr, Gr = extract_region(bim, Gs, chrom, start, start + size)"
   ]
  },
  {
   "cell_type": "code",
   "execution_count": 61,
   "id": "95ef0841-8d48-49b5-9788-5b58f7e5d7d8",
   "metadata": {},
   "outputs": [],
   "source": [
    "# load genotype matrix\n",
    "X = Gr.compute().T"
   ]
  },
  {
   "cell_type": "markdown",
   "id": "99950e0b-55ab-4586-afe8-58fb07cb63e2",
   "metadata": {},
   "source": [
    "## Simulate pheno, perform local GWAS and compare groundtruth with GWAS results"
   ]
  },
  {
   "cell_type": "code",
   "execution_count": 152,
   "id": "2924baa9-338b-417a-8c6d-c86047ba02ad",
   "metadata": {},
   "outputs": [],
   "source": [
    "def simulate_pheno(X, idx_caus, var_expl, direction=None):\n",
    "    assert len(idx_caus)==len(var_expl)\n",
    "    \n",
    "    if direction is None:\n",
    "        direction = 2. * (np.random.rand(len(idx_caus))>0.5) - 1.\n",
    "    assert len(idx_caus)==len(direction)\n",
    "    \n",
    "    # generate phenotype\n",
    "    ve = 1 - var_expl.sum()\n",
    "    assert ve>0, 'sum(var_expl) should be < 1'\n",
    "    beta = np.sqrt(var_expl) * direction\n",
    "    Xc = X[:, idx_caus]\n",
    "    Xc = (Xc - Xc.mean(0)) / Xc.std(0)\n",
    "    yg = Xc.dot(beta)[:, None]\n",
    "    yn = np.sqrt(ve) * np.random.randn(X.shape[0], 1)\n",
    "    y =  yg + yn\n",
    "    \n",
    "    # define beta real\n",
    "    beta_real = np.zeros(X.shape[1])\n",
    "    beta_real[idx_caus] = beta\n",
    "    \n",
    "    # standardize y and renormalize beta_real accordingly\n",
    "    ystd = y.std()\n",
    "    y = (y - y.mean()) / ystd\n",
    "    beta_real = beta_real / ystd\n",
    "    \n",
    "    return y, beta_real"
   ]
  },
  {
   "cell_type": "code",
   "execution_count": 153,
   "id": "df43cec6-2e4e-46ec-b1ba-58c77acfda35",
   "metadata": {},
   "outputs": [],
   "source": [
    "# generate phenotype\n",
    "n_causal = 1\n",
    "idx_caus = np.random.choice(X.shape[1], size=n_causal)\n",
    "var_expl = np.array([0.05])\n",
    "y, beta_real = simulate_pheno(X, idx_caus, var_expl)"
   ]
  },
  {
   "cell_type": "code",
   "execution_count": 154,
   "id": "86e80dab-2df9-4967-9a89-9c5cf65af1df",
   "metadata": {},
   "outputs": [],
   "source": [
    "# perform genetic association testing \n",
    "F = np.ones_like(y)\n",
    "lmm = LMM(y, F)\n",
    "lmm.process(X)\n",
    "pv = lmm.getPv()\n",
    "beta = lmm.getBetaSNP()\n",
    "beta_ste = lmm.getBetaSNPste()"
   ]
  },
  {
   "cell_type": "code",
   "execution_count": 155,
   "id": "adcf22b5-9eeb-41f9-9970-4925544c7d26",
   "metadata": {},
   "outputs": [
    {
     "data": {
      "image/png": "[encoded data removed]",
      "text/plain": [
       "<Figure size 432x288 with 2 Axes>"
      ]
     },
     "metadata": {
      "needs_background": "light"
     },
     "output_type": "display_data"
    }
   ],
   "source": [
    "# plot ground truth and results\n",
    "x = bimr['pos'].values\n",
    "pl.subplot(211)\n",
    "pl.title('Real effect size')\n",
    "pl.plot(x, beta_real, '.k')\n",
    "pl.ylabel('eff size')\n",
    "pl.subplot(212)\n",
    "pl.title('GWAS results')\n",
    "pl.plot(x, -np.log10(pv), '.k')\n",
    "pl.ylabel('-log$_{10}$ P')\n",
    "pl.tight_layout()"
   ]
  },
  {
   "cell_type": "markdown",
   "id": "17239948-c3c7-4a1e-a751-1aff4cec3d73",
   "metadata": {},
   "source": [
    "## Perform conditional analysis"
   ]
  }
 ],
 "metadata": {
  "kernelspec": {
   "display_name": "Python 3 (ipykernel)",
   "language": "python",
   "name": "python3"
  },
  "language_info": {
   "codemirror_mode": {
    "name": "ipython",
    "version": 3
   },
   "file_extension": ".py",
   "mimetype": "text/x-python",
   "name": "python",
   "nbconvert_exporter": "python",
   "pygments_lexer": "ipython3",
   "version": "3.9.5"
  }
 },
 "nbformat": 4,
 "nbformat_minor": 5
}
