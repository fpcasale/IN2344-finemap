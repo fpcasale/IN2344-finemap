{
 "cells": [
  {
   "cell_type": "code",
   "execution_count": 91,
   "id": "0f639cd1-1b63-4e0f-adb3-13389e9ef860",
   "metadata": {},
   "outputs": [],
   "source": [
    "import numpy as np\n",
    "import pdb\n",
    "from pandas_plink import read_plink\n",
    "from limix_lmm import LMM\n",
    "import pylab as pl"
   ]
  },
  {
   "cell_type": "markdown",
   "id": "0a3083ab-1003-46dd-8d4e-e63c2669f956",
   "metadata": {},
   "source": [
    "## Download and load genetic data"
   ]
  },
  {
   "cell_type": "code",
   "execution_count": 56,
   "id": "b5a2b923-2dbc-4f7c-b737-d26ede58a6d3",
   "metadata": {},
   "outputs": [
    {
     "name": "stderr",
     "output_type": "stream",
     "text": [
      "Mapping files: 100%|█████████████████████████████████████████████████████████████████████████████████████| 3/3 [00:00<00:00, 11.48it/s]\n"
     ]
    }
   ],
   "source": [
    "# load genetic data\n",
    "bfile = '../data/ALL.chr22_GRCh38.genotypes.20170504'\n",
    "bim, fam, G = read_plink(bfile)"
   ]
  },
  {
   "cell_type": "code",
   "execution_count": 57,
   "id": "56ec6ad5-d324-4f87-8800-51613a3a8812",
   "metadata": {},
   "outputs": [],
   "source": [
    "def extract_region(bim, G, chrom, start, end):\n",
    "    I1 = bim['chrom']==str(chrom)\n",
    "    I2 = bim['pos'] > start\n",
    "    I3 = bim['pos'] < end\n",
    "    Ikeep = I1 * I2 * I3\n",
    "    bim = bim.loc[Ikeep].copy()\n",
    "    G = G[bim['i'].values]\n",
    "    bim['i'] = np.arange(len(bim))\n",
    "    return bim, G"
   ]
  },
  {
   "cell_type": "code",
   "execution_count": 58,
   "id": "18faa678-7905-44f4-89ea-8d83bc4c8222",
   "metadata": {},
   "outputs": [],
   "source": [
    "def subset_individuals(fam, G, keep_idxs):\n",
    "    fam = fam.iloc[keep_idxs]\n",
    "    G = G[:, keep_idxs]\n",
    "    return bim, G"
   ]
  },
  {
   "cell_type": "code",
   "execution_count": 59,
   "id": "65db7de6-6ede-4428-99f9-65fcd8e4521f",
   "metadata": {},
   "outputs": [],
   "source": [
    "# subset to 1000 individuals\n",
    "N = 1000\n",
    "np.random.seed(0)\n",
    "idxs = np.sort(np.random.permutation(fam.shape[0])[:N])\n",
    "fams, Gs = subset_individuals(fam, G, idxs)"
   ]
  },
  {
   "cell_type": "code",
   "execution_count": 60,
   "id": "176d0942-ee6c-4059-93d4-cccf5a8c6ed8",
   "metadata": {},
   "outputs": [],
   "source": [
    "# extract region\n",
    "chrom = 22\n",
    "start = 30797531\n",
    "size = 100000\n",
    "bimr, Gr = extract_region(bim, Gs, chrom, start, start + size)"
   ]
  },
  {
   "cell_type": "code",
   "execution_count": 61,
   "id": "95ef0841-8d48-49b5-9788-5b58f7e5d7d8",
   "metadata": {},
   "outputs": [],
   "source": [
    "# load genotype matrix\n",
    "X = Gr.compute().T"
   ]
  },
  {
   "cell_type": "markdown",
   "id": "99950e0b-55ab-4586-afe8-58fb07cb63e2",
   "metadata": {},
   "source": [
    "## Simulate pheno, perform local GWAS and compare groundtruth with GWAS results"
   ]
  },
  {
   "cell_type": "code",
   "execution_count": 152,
   "id": "2924baa9-338b-417a-8c6d-c86047ba02ad",
   "metadata": {},
   "outputs": [],
   "source": [
    "def simulate_pheno(X, idx_caus, var_expl, direction=None):\n",
    "    assert len(idx_caus)==len(var_expl)\n",
    "    \n",
    "    if direction is None:\n",
    "        direction = 2. * (np.random.rand(len(idx_caus))>0.5) - 1.\n",
    "    assert len(idx_caus)==len(direction)\n",
    "    \n",
    "    # generate phenotype\n",
    "    ve = 1 - var_expl.sum()\n",
    "    assert ve>0, 'sum(var_expl) should be < 1'\n",
    "    beta = np.sqrt(var_expl) * direction\n",
    "    Xc = X[:, idx_caus]\n",
    "    Xc = (Xc - Xc.mean(0)) / Xc.std(0)\n",
    "    yg = Xc.dot(beta)[:, None]\n",
    "    yn = np.sqrt(ve) * np.random.randn(X.shape[0], 1)\n",
    "    y =  yg + yn\n",
    "    \n",
    "    # define beta real\n",
    "    beta_real = np.zeros(X.shape[1])\n",
    "    beta_real[idx_caus] = beta\n",
    "    \n",
    "    # standardize y and renormalize beta_real accordingly\n",
    "    ystd = y.std()\n",
    "    y = (y - y.mean()) / ystd\n",
    "    beta_real = beta_real / ystd\n",
    "    \n",
    "    return y, beta_real"
   ]
  },
  {
   "cell_type": "code",
   "execution_count": 153,
   "id": "df43cec6-2e4e-46ec-b1ba-58c77acfda35",
   "metadata": {},
   "outputs": [],
   "source": [
    "# generate phenotype\n",
    "n_causal = 1\n",
    "idx_caus = np.random.choice(X.shape[1], size=n_causal)\n",
    "var_expl = np.array([0.05])\n",
    "y, beta_real = simulate_pheno(X, idx_caus, var_expl)"
   ]
  },
  {
   "cell_type": "code",
   "execution_count": 154,
   "id": "86e80dab-2df9-4967-9a89-9c5cf65af1df",
   "metadata": {},
   "outputs": [],
   "source": [
    "# perform genetic association testing \n",
    "F = np.ones_like(y)\n",
    "lmm = LMM(y, F)\n",
    "lmm.process(X)\n",
    "pv = lmm.getPv()\n",
    "beta = lmm.getBetaSNP()\n",
    "beta_ste = lmm.getBetaSNPste()"
   ]
  },
  {
   "cell_type": "code",
   "execution_count": 155,
   "id": "adcf22b5-9eeb-41f9-9970-4925544c7d26",
   "metadata": {},
   "outputs": [
    {
     "data": {
      "image/png": "[encoded data removed]",
      "text/plain": [
       "<Figure size 432x288 with 2 Axes>"
      ]
     },
     "metadata": {
      "needs_background": "light"
     },
     "output_type": "display_data"
    }
   ],
   "source": [
    "# plot ground truth and results\n",
    "x = bimr['pos'].values\n",
    "pl.subplot(211)\n",
    "pl.title('Real effect size')\n",
    "pl.plot(x, beta_real, '.k')\n",
    "pl.ylabel('eff size')\n",
    "pl.subplot(212)\n",
    "pl.title('GWAS results')\n",
    "pl.plot(x, -np.log10(pv), '.k')\n",
    "pl.ylabel('-log$_{10}$ P')\n",
    "pl.tight_layout()"
   ]
  },
  {
   "cell_type": "markdown",
   "id": "17239948-c3c7-4a1e-a751-1aff4cec3d73",
   "metadata": {},
   "source": [
    "## Perform conditional analysis"
   ]
  },
  {
   "cell_type": "code",
   "execution_count": 156,
   "id": "4d6d1820-89e8-4637-a34d-ad5d751c9353",
   "metadata": {},
   "outputs": [
    {
     "name": "stderr",
     "output_type": "stream",
     "text": [
      "/Users/paolo.casale/miniconda3/lib/python3.9/site-packages/limix_lmm/lmm.py:142: RuntimeWarning: divide by zero encountered in true_divide\n",
      "  n = 1.0 / (GKiG - sp.einsum(\"ij,ij->j\", FKiG, A0iFKiG))\n",
      "/Users/paolo.casale/miniconda3/lib/python3.9/site-packages/limix_lmm/lmm.py:143: RuntimeWarning: invalid value encountered in multiply\n",
      "  M = -n * A0iFKiG\n"
     ]
    }
   ],
   "source": [
    "# first step\n",
    "F = np.ones_like(y)\n",
    "lmm = LMM(y, F)\n",
    "lmm.process(X)\n",
    "pv0 = lmm.getPv()\n",
    "idx = np.argmin(pv)\n",
    "\n",
    "# second step\n",
    "F = np.concatenate([np.ones_like(y), X[:,[idx]]], 1)\n",
    "lmm = LMM(y, F)\n",
    "lmm.process(X)\n",
    "pv1 = lmm.getPv()"
   ]
  },
  {
   "cell_type": "code",
   "execution_count": 157,
   "id": "91ecd896-433f-4771-be46-acf1c0b8c3f2",
   "metadata": {},
   "outputs": [
    {
     "data": {
      "image/png": "[encoded data removed]",
      "text/plain": [
       "<Figure size 504x576 with 3 Axes>"
      ]
     },
     "metadata": {
      "needs_background": "light"
     },
     "output_type": "display_data"
    }
   ],
   "source": [
    "# plot ground truth and results\n",
    "pl.figure(1, figsize=(7, 8))\n",
    "x = bimr['pos'].values\n",
    "pl.subplot(311)\n",
    "pl.title('Real effect size')\n",
    "pl.plot(x, beta_real, '.k')\n",
    "pl.ylabel('eff size')\n",
    "pl.subplot(312)\n",
    "pl.title('First step')\n",
    "pl.plot(x, -np.log10(pv0), '.k')\n",
    "pl.ylabel('-log$_{10}$ P')\n",
    "pl.tight_layout()\n",
    "pl.subplot(313)\n",
    "pl.title('Second step')\n",
    "pl.plot(x, -np.log10(pv1), '.k')\n",
    "pl.ylabel('-log$_{10}$ P')\n",
    "pl.tight_layout()"
   ]
  },
  {
   "cell_type": "markdown",
   "id": "9fb2d0b9-7ffd-4c10-94e2-13d5ca223cb0",
   "metadata": {},
   "source": [
    "## Compute Bayes Factors"
   ]
  },
  {
   "cell_type": "markdown",
   "id": "dcd2f926-6b08-4eca-b17f-57c9bce56ce5",
   "metadata": {},
   "source": [
    "$ABF=\\sqrt{1-r}\\times\\text{exp}(\\frac12Z^2\\times{r})$"
   ]
  },
  {
   "cell_type": "markdown",
   "id": "01e8c44c-4efa-4c28-a7a8-1ac6db829cb3",
   "metadata": {},
   "source": [
    "$Z=\\frac{\\beta}{\\sqrt{V}}$"
   ]
  },
  {
   "cell_type": "markdown",
   "id": "0c195ab4-b8ee-4426-bd6f-34ec55fe5666",
   "metadata": {},
   "source": [
    "$r = \\frac{W}{V+W}$"
   ]
  },
  {
   "cell_type": "markdown",
   "id": "cb5bfef5-9352-45bd-a631-673fc156ea45",
   "metadata": {},
   "source": [
    "$V=\\text{Var}(\\hat{\\beta}_j)=\\frac{1}{N\\text{var}(y)2f_j(1-f_j)}$"
   ]
  },
  {
   "cell_type": "code",
   "execution_count": 184,
   "id": "3d63dc7b-9d5d-4b11-8fa8-bdd5a5b15114",
   "metadata": {},
   "outputs": [],
   "source": [
    "def compute_ABF1(beta, ste, W=0.15**2):\n",
    "    V = ste**2\n",
    "    r = W / (V + W)\n",
    "    Z = beta / np.sqrt(V)\n",
    "    ABF = np.sqrt(1 - r) * np.exp(0.5 * Z**2 * r)\n",
    "    return ABF"
   ]
  },
  {
   "cell_type": "code",
   "execution_count": 185,
   "id": "a82041a1-7146-49fa-b28c-d4bbb8fda19d",
   "metadata": {},
   "outputs": [],
   "source": [
    "# ABF and PIP\n",
    "ABF = compute_ABF1(beta, beta_ste)\n",
    "PIP = ABF / ABF.sum()"
   ]
  },
  {
   "cell_type": "code",
   "execution_count": 231,
   "id": "7b5c0db6-0341-464f-a7cf-f4557a874e72",
   "metadata": {},
   "outputs": [],
   "source": [
    "# Credible set\n",
    "def compute_cs(PIP):\n",
    "    idxs = np.argsort(PIP)[::-1]\n",
    "    _upto = np.where(PIP[idxs].cumsum()>0.95)[0][0] + 1\n",
    "    Ics = idxs[:_upto]\n",
    "    return Ics"
   ]
  },
  {
   "cell_type": "code",
   "execution_count": 232,
   "id": "50083032-a2ec-419d-8970-568039517ff3",
   "metadata": {},
   "outputs": [
    {
     "data": {
      "image/png": "[encoded data removed]",
      "text/plain": [
       "<Figure size 504x576 with 3 Axes>"
      ]
     },
     "metadata": {
      "needs_background": "light"
     },
     "output_type": "display_data"
    }
   ],
   "source": [
    "# plot ground truth and results\n",
    "pl.figure(1, figsize=(7, 8))\n",
    "x = bimr['pos'].values\n",
    "pl.subplot(311)\n",
    "pl.title('Real effect size')\n",
    "pl.plot(x, beta_real, '.k')\n",
    "pl.ylabel('eff size')\n",
    "pl.subplot(312)\n",
    "pl.title('Manhattan')\n",
    "pl.plot(x, -np.log10(pv0), '.k')\n",
    "pl.ylabel('-log$_{10}$ P')\n",
    "pl.tight_layout()\n",
    "pl.subplot(313)\n",
    "pl.title('Posterior inclusion probability (and credible set)')\n",
    "pl.plot(x, PIP, '.k')\n",
    "Ics = compute_cs(PIP)\n",
    "pl.plot(x[Ics], PIP[Ics], '.r')\n",
    "pl.ylabel('PIP')\n",
    "pl.tight_layout()"
   ]
  },
  {
   "cell_type": "markdown",
   "id": "3222c631-1967-4cd9-a0b4-ae51956c0e4d",
   "metadata": {},
   "source": [
    "## Susie algorithm based on the SER model"
   ]
  },
  {
   "cell_type": "markdown",
   "id": "331ce8a5-8d6a-428c-8de7-8e8740e1cb70",
   "metadata": {},
   "source": [
    "Under the SER model one can show that the posterior probabilities for $b$ and $\\boldsymbol{\\gamma}$ are"
   ]
  },
  {
   "cell_type": "markdown",
   "id": "1a93e6e1-f40f-40fd-beca-8d569efbdd75",
   "metadata": {},
   "source": [
    "$b|\\mathbf{y}, \\mathbf{X}, \\sigma^2, \\sigma^2_0\\sim\\mathcal{N}(\\mu_1, \\sigma^2_1)$"
   ]
  },
  {
   "cell_type": "markdown",
   "id": "cd0dfbee-e89d-43f2-8527-d98d8e93039d",
   "metadata": {},
   "source": [
    "$\\boldsymbol{\\gamma}|\\mathbf{y}, \\mathbf{X}, \\sigma^2, \\sigma^2_0\\sim\\text{Mult}(1, \\boldsymbol{\\pi})$"
   ]
  },
  {
   "cell_type": "markdown",
   "id": "4da1d0d4-9254-4da6-839a-19705d82fad6",
   "metadata": {},
   "source": [
    "Where $\\boldsymbol{\\pi}$, $\\mu_1$ and $\\sigma_1^2$ can all be computed from single-variant regression summary stats. Specifically, $\\boldsymbol{\\pi}$ is the PIP we computed in the previous section. In the following, we provide a function that enables computation of $\\boldsymbol{\\pi}$, $\\mu_1$ and $\\sigma_1^2$. We will use this function to implement the full SuSiE algorithm."
   ]
  },
  {
   "cell_type": "code",
   "execution_count": 255,
   "id": "ff89e6f9-5f2e-4908-941c-88c7d0c54b0d",
   "metadata": {},
   "outputs": [],
   "source": [
    "# while the full SuSiE algorithm enable optimization of sigma2 and sigma2_0,\n",
    "# we here consider a version where they have fixed values (priors)\n",
    "def SER(X, y, sigma2_0=0.15**2, sigma2=1):\n",
    "    \n",
    "    # fit single-variant regression model\n",
    "    F = np.ones_like(y)\n",
    "    lmm = LMM(y, F)\n",
    "    lmm.process(X)\n",
    "    pv = lmm.getPv()\n",
    "    beta = lmm.getBetaSNP()\n",
    "    ste = lmm.getBetaSNPste()\n",
    "    \n",
    "    # compute pi, mu_1 and sigma2_1\n",
    "    ABF = compute_ABF1(beta, ste)\n",
    "    pi = ABF / ABF.sum()\n",
    "    sigma2_1 = 1 / (1 / ste**2 + 1 / sigma2_0)\n",
    "    mu_1 = sigma2_1 / ste**2 * beta\n",
    "    \n",
    "    return pi, mu_1, sigma2_1"
   ]
  },
  {
   "cell_type": "code",
   "execution_count": 260,
   "id": "ab60a662-c361-4c01-bf32-8b363399e024",
   "metadata": {},
   "outputs": [],
   "source": [
    "# generate phenotype\n",
    "n_causal = 2\n",
    "idx_caus = np.random.choice(X.shape[1], size=n_causal)\n",
    "var_expl = np.array([0.05, 0.05])\n",
    "y, beta_real = simulate_pheno(X, idx_caus, var_expl)"
   ]
  },
  {
   "cell_type": "code",
   "execution_count": 261,
   "id": "bc8834d8-a848-45d2-804b-361ab3ab132b",
   "metadata": {},
   "outputs": [],
   "source": [
    "# Implement the susie algorithm in slide 28"
   ]
  }
 ],
 "metadata": {
  "kernelspec": {
   "display_name": "Python 3 (ipykernel)",
   "language": "python",
   "name": "python3"
  },
  "language_info": {
   "codemirror_mode": {
    "name": "ipython",
    "version": 3
   },
   "file_extension": ".py",
   "mimetype": "text/x-python",
   "name": "python",
   "nbconvert_exporter": "python",
   "pygments_lexer": "ipython3",
   "version": "3.9.5"
  }
 },
 "nbformat": 4,
 "nbformat_minor": 5
}
