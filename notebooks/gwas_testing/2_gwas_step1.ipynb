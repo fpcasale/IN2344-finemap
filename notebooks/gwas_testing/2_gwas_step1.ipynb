{
 "cells": [
  {
   "cell_type": "code",
   "execution_count": 22,
   "id": "0f639cd1-1b63-4e0f-adb3-13389e9ef860",
   "metadata": {},
   "outputs": [],
   "source": [
    "import numpy as np\n",
    "import pdb\n",
    "from pandas_plink import read_plink\n",
    "from limix_lmm import LMM\n",
    "import pylab as plt\n",
    "import os\n",
    "import pandas as pd"
   ]
  },
  {
   "cell_type": "markdown",
   "id": "0a3083ab-1003-46dd-8d4e-e63c2669f956",
   "metadata": {},
   "source": [
    "## Loading Genetic Data from 1000 Genomes\n",
    "\n",
    "In this code segment, we are dealing with genetic data derived from the 1000 Genomes Project. Let's break down some context and terminology:\n",
    "\n",
    "- **1000 Genomes Dataset**: \n",
    "  - A comprehensive public resource that provides data on the genetic makeup of 2504 individuals from 26 different populations around the world.\n",
    "  - It's an effort to sequence the genomes of a large number of people to provide a comprehensive resource on human genetic variation.\n",
    "  - In our current scenario, we are utilizing just a subset of this extensive dataset.\n",
    "\n",
    "- **PLINK Files**:\n",
    "  - PLINK is a free, open-source whole genome association analysis toolset, which operates on a range of binary dataset types.\n",
    "  - The dataset is typically represented in three primary files:\n",
    "    - `.bim` (Binary Marker File): Contains information about the genetic markers (like SNPs).\n",
    "    - `.fam` (Family File): Contains information about the individuals (like their IDs, phenotype).\n",
    "    - `.bed` (Binary PED File): Contains the genotype data in a binary format.\n",
    "  - Together, these files give a comprehensive picture of both the individuals in the dataset and their genetic variations.\n",
    "\n",
    "- **Loading Data in Python**:\n",
    "  - The `read_plink` function from the `pandas_plink` library in Python can be used to load PLINK binary datasets.\n",
    "  - Once loaded, we can manipulate and analyze this data using standard Python tools and libraries.\n",
    "\n",
    "The code `bim, fam, G = read_plink(bfile)` essentially reads the genetic data from the specified PLINK binary files and stores the marker information in `bim`, the family/individual information in `fam`, and the genotype matrix in `G`.\n"
   ]
  },
  {
   "cell_type": "code",
   "execution_count": 2,
   "id": "b5a2b923-2dbc-4f7c-b737-d26ede58a6d3",
   "metadata": {},
   "outputs": [
    {
     "name": "stderr",
     "output_type": "stream",
     "text": [
      "Mapping files: 100%|██████████████████████████████| 3/3 [00:00<00:00, 16.97it/s]\n"
     ]
    }
   ],
   "source": [
    "# load genetic data\n",
    "bfile = '../../data/ALL.chr22_GRCh38.genotypes.20170504/ALL.chr22_GRCh38.genotypes.20170504'\n",
    "bim, fam, G = read_plink(bfile)"
   ]
  },
  {
   "cell_type": "code",
   "execution_count": 3,
   "id": "56ec6ad5-d324-4f87-8800-51613a3a8812",
   "metadata": {},
   "outputs": [],
   "source": [
    "def extract_region(bim, G, chrom, start, end):\n",
    "    I1 = bim['chrom']==str(chrom)\n",
    "    I2 = bim['pos'] > start\n",
    "    I3 = bim['pos'] < end\n",
    "    Ikeep = I1 * I2 * I3\n",
    "    bim = bim.loc[Ikeep].copy()\n",
    "    G = G[bim['i'].values]\n",
    "    bim['i'] = np.arange(len(bim))\n",
    "    return bim, G"
   ]
  },
  {
   "cell_type": "code",
   "execution_count": 4,
   "id": "18faa678-7905-44f4-89ea-8d83bc4c8222",
   "metadata": {},
   "outputs": [],
   "source": [
    "def subset_individuals(fam, G, keep_idxs):\n",
    "    fam = fam.iloc[keep_idxs]\n",
    "    G = G[:, keep_idxs]\n",
    "    return bim, G"
   ]
  },
  {
   "cell_type": "code",
   "execution_count": 5,
   "id": "65db7de6-6ede-4428-99f9-65fcd8e4521f",
   "metadata": {},
   "outputs": [],
   "source": [
    "# subset to 1000 individuals\n",
    "N = 1000\n",
    "np.random.seed(0)\n",
    "idxs = np.sort(np.random.permutation(fam.shape[0])[:N])\n",
    "fams, Gs = subset_individuals(fam, G, idxs)"
   ]
  },
  {
   "cell_type": "code",
   "execution_count": 6,
   "id": "176d0942-ee6c-4059-93d4-cccf5a8c6ed8",
   "metadata": {},
   "outputs": [],
   "source": [
    "# extract region\n",
    "chrom = 22\n",
    "start = 30797531\n",
    "size = 100000\n",
    "bimr, Gr = extract_region(bim, Gs, chrom, start, start + size)"
   ]
  },
  {
   "cell_type": "code",
   "execution_count": 7,
   "id": "95ef0841-8d48-49b5-9788-5b58f7e5d7d8",
   "metadata": {},
   "outputs": [],
   "source": [
    "# load genotype matrix\n",
    "X_real = Gr.compute().T"
   ]
  }
 ],
 "metadata": {
  "kernelspec": {
   "display_name": "Python 3 (ipykernel)",
   "language": "python",
   "name": "python3"
  },
  "language_info": {
   "codemirror_mode": {
    "name": "ipython",
    "version": 3
   },
   "file_extension": ".py",
   "mimetype": "text/x-python",
   "name": "python",
   "nbconvert_exporter": "python",
   "pygments_lexer": "ipython3",
   "version": "3.9.7"
  }
 },
 "nbformat": 4,
 "nbformat_minor": 5
}
