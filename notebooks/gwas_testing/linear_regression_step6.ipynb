{
 "cells": [
  {
   "cell_type": "code",
   "execution_count": 94,
   "id": "0f639cd1-1b63-4e0f-adb3-13389e9ef860",
   "metadata": {},
   "outputs": [],
   "source": [
    "import numpy as np\n",
    "import pdb\n",
    "from pandas_plink import read_plink\n",
    "from limix_lmm import LMM\n",
    "import matplotlib.pyplot as plt\n",
    "import pandas as pd\n",
    "import scipy.stats as st\n",
    "import statsmodels.api as sm\n",
    "from sklearn.preprocessing import StandardScaler\n",
    "from tqdm import tqdm\n",
    "from statsmodels.stats.multitest import multipletests\n",
    "import seaborn as sns"
   ]
  },
  {
   "cell_type": "markdown",
   "id": "f8305d7b-9df9-4b5f-8383-ff99223ddfa8",
   "metadata": {},
   "source": [
    "## Linear regression"
   ]
  },
  {
   "cell_type": "markdown",
   "id": "a63629f8-7d32-4db2-9435-6938ed2c6c59",
   "metadata": {},
   "source": [
    "#### Generate data"
   ]
  },
  {
   "cell_type": "code",
   "execution_count": 41,
   "id": "6b6e1e79-bc3d-4c7c-87e4-bd55e89c71a6",
   "metadata": {},
   "outputs": [],
   "source": [
    "# Define the sample size and number of covariates\n",
    "N = 5000\n",
    "K = 3\n",
    "\n",
    "# Generate the covariate matrix and the true effect sizes\n",
    "X = np.hstack([np.ones((N, 1)), np.random.randn(N, K)])\n",
    "\n",
    "beta_true = np.linspace(0.1, 0.4, K+1)\n",
    "\n",
    "# Generate the phenotype\n",
    "y = X.dot(beta_true) + np.random.randn(N)"
   ]
  },
  {
   "cell_type": "markdown",
   "id": "536826a1-412b-46b6-98b8-0b27b8ee0bab",
   "metadata": {},
   "source": [
    "Compute MLE for beta and sigma^2 and the log marginal likelihood of the model.\n",
    "\n",
    "Parameters:\n",
    "- y: observed data\n",
    "- X: design matrix with covariates (without intercept)\n",
    "\n",
    "Returns:\n",
    "- beta_hat: MLE of beta\n",
    "- sigma2_hat: MLE of sigma squared\n",
    "- log_marginal_likelihood: log marginal likelihood of the model"
   ]
  },
  {
   "cell_type": "code",
   "execution_count": 42,
   "id": "43c9eb6f-5047-484b-b0b2-684c701fd077",
   "metadata": {},
   "outputs": [],
   "source": [
    "def compute_MLE_and_LML(y, X):\n",
    "    \"\"\"\n",
    "    Compute MLE for beta and sigma^2, standard errors for beta, \n",
    "    and the log marginal likelihood of the model.\n",
    "    \n",
    "    Parameters:\n",
    "    - y: observed data\n",
    "    - X: design matrix with covariates\n",
    "    \n",
    "    Returns:\n",
    "    - beta_hat: MLE of beta\n",
    "    - beta_se: Standard errors for beta\n",
    "    - sigma2_hat: MLE of sigma squared\n",
    "    - log_marginal_likelihood: log marginal likelihood of the model\n",
    "    \"\"\"\n",
    "    \n",
    "    # Compute MLE for beta using the closed-form solution\n",
    "    beta_hat = np.linalg.inv(X.T.dot(X)).dot(X.T).dot(y)\n",
    "    \n",
    "    # Compute residuals\n",
    "    residuals = y - X.dot(beta_hat)\n",
    "    \n",
    "    # Compute MLE for sigma squared (variance of the residuals)\n",
    "    sigma2_hat = residuals.T.dot(residuals) / len(y)\n",
    "    \n",
    "    # Compute standard errors for beta_hat\n",
    "    beta_se = np.sqrt(sigma2_hat * np.diag(np.linalg.inv(X.T.dot(X))))\n",
    "    \n",
    "    # Compute the log marginal likelihood of the model\n",
    "    log_marginal_likelihood = np.sum(st.norm.logpdf(y, loc=X.dot(beta_hat), scale=np.sqrt(sigma2_hat)))\n",
    "    \n",
    "    return beta_hat, beta_se, sigma2_hat, log_marginal_likelihood"
   ]
  },
  {
   "cell_type": "code",
   "execution_count": 43,
   "id": "7958670f-1a13-47a5-bfca-018c59da72ef",
   "metadata": {},
   "outputs": [],
   "source": [
    "# Add a bias term (intercept) to X\n",
    "beta_hat, beta_se, sigma2_hat, lml = compute_MLE_and_LML(y, X)"
   ]
  },
  {
   "cell_type": "code",
   "execution_count": 44,
   "id": "1817a568-a352-4d7e-893b-c6e841bcf41b",
   "metadata": {},
   "outputs": [
    {
     "name": "stdout",
     "output_type": "stream",
     "text": [
      "MLE of effect size (beta): [0.11634087 0.21388185 0.29901934 0.39236173]\n",
      "Standard errors of effect size (beta_se): [0.01423916 0.01439681 0.01416831 0.01405056]\n",
      "MLE of residual variance (sigma2): 1.0137\n",
      "LML: -7128.6637\n"
     ]
    }
   ],
   "source": [
    "print(f\"MLE of effect size (beta):\", beta_hat)\n",
    "print(f\"Standard errors of effect size (beta_se):\", beta_se)\n",
    "print(f\"MLE of residual variance (sigma2): {sigma2_hat:.4f}\")\n",
    "print(f\"LML: {lml:.4f}\")"
   ]
  },
  {
   "cell_type": "markdown",
   "id": "f292dc89-cc54-401e-babc-084685b8fd20",
   "metadata": {},
   "source": [
    "* Plot Estimated vs True Beta with Standrd errors\n",
    "* What happens if you increase sample size? $500\\longrightarrow{1000}\\longrightarrow{5000}$"
   ]
  },
  {
   "cell_type": "code",
   "execution_count": 46,
   "id": "c969f77b-c035-4227-88d3-5b2c82c85771",
   "metadata": {},
   "outputs": [
    {
     "data": {
      "image/png": "[encoded data removed]",
      "text/plain": [
       "<Figure size 576x432 with 1 Axes>"
      ]
     },
     "metadata": {
      "needs_background": "light"
     },
     "output_type": "display_data"
    }
   ],
   "source": [
    "# Create scatter plot\n",
    "plt.figure(figsize=(8, 6))\n",
    "plt.errorbar(beta_true, beta_hat, yerr=beta_se, fmt='o', color='blue', ecolor='red', capsize=5)\n",
    "plt.plot([min(beta_true), max(beta_true)], [min(beta_true), max(beta_true)], 'k--', lw=1)  # Diagonal line for reference\n",
    "\n",
    "plt.xlabel('True Beta Values')\n",
    "plt.ylabel('Estimated Beta Values')\n",
    "plt.title('True vs Estimated Beta Coefficients')\n",
    "plt.tight_layout()\n",
    "\n",
    "plt.show()"
   ]
  },
  {
   "cell_type": "markdown",
   "id": "3151a863-0fed-401a-80f5-917da17a448a",
   "metadata": {},
   "source": [
    "## Linear models for genetics"
   ]
  },
  {
   "cell_type": "markdown",
   "id": "e3137726-7883-4892-a9f7-384ac58e233d",
   "metadata": {},
   "source": [
    "**Objectives:**\n",
    "- **Given \\(N=500\\) samples:**\n",
    "    1. Generate age, sex, and one genotype.\n",
    "    2. Generate a phenotype as a linear function of age and sex (null model).\n",
    "- **Build a lrt_test function:**\n",
    "    1. Function should take as input: phenotype, covariates (age and sex), and genotype vector.\n",
    "    2. Returns should include: effect size (beta), standard error (se), and p-value."
   ]
  },
  {
   "cell_type": "markdown",
   "id": "33a10805-0056-45db-8450-40a1e0dac122",
   "metadata": {},
   "source": [
    "#### Generate data"
   ]
  },
  {
   "cell_type": "code",
   "execution_count": 52,
   "id": "9d91ce75-7f49-4e85-80c2-629406a5b5b2",
   "metadata": {},
   "outputs": [],
   "source": [
    "# Set seed for reproducibility\n",
    "np.random.seed(42)\n",
    "\n",
    "# Number of samples\n",
    "N = 500\n",
    "\n",
    "# Generate random age between 20 and 80\n",
    "age = np.random.randint(20, 80, (N, 1))\n",
    "\n",
    "# Generate random sex (0 = male, 1 = female)\n",
    "sex = np.random.randint(0, 2, (N, 1))\n",
    "\n",
    "# Generate random genotype (0, 1, or 2) using binomial with 2 trials and specified allele frequency\n",
    "maf = 0.3 # minor allele frequency\n",
    "genotype = np.random.binomial(2, p, (N, 1))\n",
    "\n",
    "# Generate phenotype\n",
    "variance_age = 0.10\n",
    "variance_sex = 0.10\n",
    "variance_genotype = 0.\n",
    "variance_noise = 1 - variance_age - variance_sex - variance_genotype\n",
    "phenotype = np.sqrt(variance_age) * StandardScaler().fit_transform(age)\n",
    "phenotype+= np.sqrt(variance_sex) * StandardScaler().fit_transform(sex)\n",
    "phenotype+= np.sqrt(variance_genotype) * StandardScaler().fit_transform(genotype)\n",
    "phenotype+= np.sqrt(variance_noise) * np.random.normal(0, 1, (N, 1))"
   ]
  },
  {
   "cell_type": "code",
   "execution_count": 54,
   "id": "6059fca8-0bf4-49ae-a88c-8e3258ac3587",
   "metadata": {},
   "outputs": [],
   "source": [
    "# final data\n",
    "F = np.column_stack((np.ones(N), age, sex))\n",
    "g = genotype\n",
    "y = phenotype"
   ]
  },
  {
   "cell_type": "code",
   "execution_count": 61,
   "id": "39e75292-3fb5-4fc6-ac59-d5d71954e1d1",
   "metadata": {},
   "outputs": [],
   "source": [
    "def lrt_test(y, F, g):\n",
    "    \"\"\"\n",
    "    Conducts a likelihood ratio test for a given genotype and set of covariates.\n",
    "    \n",
    "    Parameters:\n",
    "    - y: observed data (phenotype)\n",
    "    - F: design matrix for null model (covariates without genotype)\n",
    "    - g: genotype data\n",
    "    \n",
    "    Returns:\n",
    "    - beta_geno: Effect size of genotype under the alternative model\n",
    "    - beta_se_geno: Standard error of the effect size of genotype under the alternative model\n",
    "    - p_value: p-value from the likelihood ratio test\n",
    "    \"\"\"\n",
    "    \n",
    "    # Fit the null model (without genotype)\n",
    "    _, _, _, loglik_null = compute_MLE_and_LML(y, F)\n",
    "    \n",
    "    # Add genotype to the covariates for the alternative model\n",
    "    X_alt = np.column_stack((F, g))\n",
    "    \n",
    "    # Fit the alternative model (with genotype)\n",
    "    beta_hat_alt, beta_se_alt, _, loglik_alt = compute_MLE_and_LML(y, X_alt)\n",
    "    \n",
    "    # Compute LRT statistic\n",
    "    lrt_stat = -2 * (loglik_null - loglik_alt)\n",
    "    \n",
    "    # Compute p-value. Using 1 dof since we're testing for 1 additional parameter (genotype effect)\n",
    "    p_value = 1 - st.chi2.cdf(lrt_stat, 1)\n",
    "    \n",
    "    # Effect size of genotype and its standard error from the alternative model\n",
    "    beta_geno = beta_hat_alt[-1]  # Genotype effect is the last coefficient\n",
    "    beta_se_geno = beta_se_alt[-1]\n",
    "    \n",
    "    return beta_geno[0], beta_se_geno[0], p_value"
   ]
  },
  {
   "cell_type": "code",
   "execution_count": 62,
   "id": "f99695da-4c89-4c07-8b50-fa7b8ca93750",
   "metadata": {},
   "outputs": [
    {
     "name": "stdout",
     "output_type": "stream",
     "text": [
      "Effect size of genotype: 0.0077\n",
      "Standard error: 0.1293\n",
      "P-value: 0.9363\n"
     ]
    }
   ],
   "source": [
    "# Call the lrt_test function\n",
    "beta_geno, beta_se_geno, p_value = lrt_test(y, F, g)\n",
    "print(f\"Effect size of genotype: {beta_geno:.4f}\")\n",
    "print(f\"Standard error: {beta_se_geno:.4f}\")\n",
    "print(f\"P-value: {p_value:.4f}\")"
   ]
  },
  {
   "cell_type": "markdown",
   "id": "60e64f4d-6e1d-4f48-836a-0b5d4d650f0e",
   "metadata": {},
   "source": [
    "## Assessing the Distribution of P-values Under the Null\n",
    "\n",
    "To understand the behavior of our statistical test under the null hypothesis, we will simulate data where the true genetic effect is zero and evaluate the distribution of resulting p-values from the likelihood ratio test. This helps in verifying whether our test maintains the desired type I error rate.\n",
    "\n",
    "### Steps:\n",
    "\n",
    "1. **Loop Over Simulations**: \n",
    "   - We'll perform this process for 10,000 iterations to ensure a robust assessment of the p-value distribution.\n",
    "   \n",
    "2. **Generate a Random Genetic Variant**:\n",
    "   - In each iteration, simulate a genetic variant to be tested.\n",
    "   \n",
    "3. **Simulate Phenotype Under the Null**:\n",
    "   - Use the `simulate_phenotype` function to generate phenotypic values. Ensure the genetic variance (`variance_genotype`) is set to zero to simulate data under the null hypothesis.\n",
    "   \n",
    "4. **Perform the Likelihood Ratio Test**:\n",
    "   - For each simulated dataset, apply the `lrt_test` function to obtain a p-value. This p-value indicates the significance of the genetic variant's association with the phenotype in the context of the given covariates.\n",
    "   \n",
    "5. **Collect and Analyze P-values**:\n",
    "   - Store the p-values from each iteration in a list.\n",
    "   - Plot a histogram to visualize the distribution of these p-values.\n",
    "   - Create a QQ (quantile-quantile) plot to compare the distribution of our p-values to what we'd expect under the null hypothesis. A QQ plot helps in identifying systematic deviations from the expected uniform distribution of p-values under the null.\n",
    "\n",
    "By the end of this analysis, we aim to validate that when there's truly no genetic effect, our test yields a uniform distribution of p-values, thereby maintaining the nominal type I error rate.\n"
   ]
  },
  {
   "cell_type": "code",
   "execution_count": 64,
   "id": "a7f17aaa-5b62-4e80-8cc6-db3730e25d86",
   "metadata": {},
   "outputs": [],
   "source": [
    "def simulate_phenotype(g, variance_genotype, N):\n",
    "    \"\"\"\n",
    "    Simulates a phenotype based on a genetic variant.\n",
    "    \n",
    "    Parameters:\n",
    "    - g: Genetic variant\n",
    "    - variance_genotype: Variance explained by the genetic variant\n",
    "    - N: Number of samples\n",
    "    \n",
    "    Returns:\n",
    "    - phenotype: Simulated phenotype\n",
    "    \"\"\"\n",
    "    \n",
    "    # Ensure that g has the right shape\n",
    "    if len(g.shape) == 1:\n",
    "        g = g.reshape((N, 1))\n",
    "    \n",
    "    # Calculate variance due to noise\n",
    "    variance_noise = 1 - variance_genotype\n",
    "    \n",
    "    # Generate phenotype\n",
    "    phenotype = np.sqrt(variance_genotype) * StandardScaler().fit_transform(g)\n",
    "    phenotype += np.sqrt(variance_noise) * np.random.normal(0, 1, (N, 1))\n",
    "    \n",
    "    return phenotype"
   ]
  },
  {
   "cell_type": "code",
   "execution_count": 66,
   "id": "3c229154-75b9-4cb2-bcbd-43d8fa6c4017",
   "metadata": {},
   "outputs": [],
   "source": [
    "# Parameters\n",
    "N = 500\n",
    "iterations = 10000\n",
    "maf = 0.3"
   ]
  },
  {
   "cell_type": "code",
   "execution_count": 67,
   "id": "f4861c8e-df2f-47ec-b01e-271e68bda4ce",
   "metadata": {},
   "outputs": [
    {
     "name": "stderr",
     "output_type": "stream",
     "text": [
      "100%|████████████████████████████████████████████████████████████████████████████████████████████████████████████████| 10000/10000 [00:04<00:00, 2344.17it/s]\n"
     ]
    }
   ],
   "source": [
    "# Initializing list for p-values\n",
    "p_values = []\n",
    "\n",
    "# Progress loop\n",
    "for _ in tqdm(range(iterations)):\n",
    "    # Generate random genetic variant (0, 1, or 2)\n",
    "    g = np.random.binomial(2, maf, (N, 1))\n",
    "    \n",
    "    # Simulate phenotype under the null\n",
    "    y = simulate_phenotype(g, 0, N)\n",
    "    \n",
    "    # Generate random covariates (For simplicity, let's consider an intercept term only)\n",
    "    F = np.ones((N, 1))\n",
    "    \n",
    "    # Perform the likelihood ratio test and store the p-value\n",
    "    p_values.append(lrt_test(y, F, g)[-1])"
   ]
  },
  {
   "cell_type": "code",
   "execution_count": 72,
   "id": "8d7a476f-277d-42f3-a29a-ca77aa17989c",
   "metadata": {},
   "outputs": [
    {
     "data": {
      "image/png": "[encoded data removed]",
      "text/plain": [
       "<Figure size 360x360 with 1 Axes>"
      ]
     },
     "metadata": {
      "needs_background": "light"
     },
     "output_type": "display_data"
    }
   ],
   "source": [
    "# Plot histogram of p-values\n",
    "plt.figure(figsize=(5,5))\n",
    "plt.hist(p_values, bins=30, edgecolor='k', alpha=0.65, density=True)\n",
    "plt.xlabel('P-value')\n",
    "plt.ylabel('Frequency')\n",
    "plt.title('Histogram of P-values Under the Null')\n",
    "plt.grid(True, which='both', linestyle='--', linewidth=0.5)\n",
    "plt.show()"
   ]
  },
  {
   "cell_type": "code",
   "execution_count": 75,
   "id": "deee5389-fbc3-4c9a-adfc-ea97742d9f71",
   "metadata": {},
   "outputs": [],
   "source": [
    "def qq_plot(ax, p_values):\n",
    "    \"\"\"\n",
    "    Create a QQ plot given a list of p-values.\n",
    "\n",
    "    Parameters:\n",
    "    - p_values: list of p-values\n",
    "    - figsize: size of the plot\n",
    "    - title: title for the plot\n",
    "    \"\"\"\n",
    "\n",
    "    # Sort p-values\n",
    "    observed = -np.log10(np.sort(p_values))\n",
    "    expected = -np.log10(np.arange(1, len(p_values) + 1) / (len(p_values) + 2))\n",
    "\n",
    "    # Create the QQ plot\n",
    "    plt.scatter(expected, observed, marker='.')\n",
    "    plt.plot([0, max(expected)], [0, max(expected)], color='red', linestyle='--')\n",
    "    plt.xlabel('Expected -log10(P-value)')\n",
    "    plt.ylabel('Observed -log10(P-value)')"
   ]
  },
  {
   "cell_type": "code",
   "execution_count": 76,
   "id": "bce4de5a-fb7e-44f6-8bde-960fedbd8287",
   "metadata": {},
   "outputs": [
    {
     "data": {
      "image/png": "[encoded data removed]",
      "text/plain": [
       "<Figure size 360x360 with 1 Axes>"
      ]
     },
     "metadata": {
      "needs_background": "light"
     },
     "output_type": "display_data"
    }
   ],
   "source": [
    "# QQ plot\n",
    "plt.figure(figsize=(5,5))\n",
    "ax = plt.subplot(111)\n",
    "plt.title('QQ-plot of P-values')\n",
    "qq_plot(ax, p_values)\n",
    "plt.show()"
   ]
  },
  {
   "cell_type": "markdown",
   "id": "b9fdf7f4-b5ca-476a-b097-87643d9d99d0",
   "metadata": {},
   "source": [
    "## Simulating Data and Assessing Multiple Testing Corrections Under the Alternative Model\n",
    "\n",
    "To investigate the behavior of our statistical tests under the alternative hypothesis, where a genetic variant has an effect on the phenotype, we'll simulate such scenarios. Further, we will apply multiple testing corrections and assess their impact.\n",
    "\n",
    "### Steps:\n",
    "\n",
    "1. **Loop Over Simulations**:\n",
    "   - Iterate through a predefined number of simulations, e.g., 10,000 times, to generate robust results.\n",
    "   \n",
    "2. **Generate a Random Genetic Variant**:\n",
    "   - In each loop, simulate a genetic variant.\n",
    "   \n",
    "3. **Simulate Phenotype Under the Alternative**:\n",
    "   - Use the `simulate_phenotype` function. This time, set the `variance_genotype` to a non-zero value, representing a genuine genetic effect on the phenotype.\n",
    "   \n",
    "4. **Conduct Statistical Tests**:\n",
    "   - Apply the `lrt_test` function on each dataset to get p-values, testing the association of the genetic variant with the phenotype.\n",
    "   \n",
    "5. **After getting all P values, Apply Multiple Testing Corrections**:\n",
    "   \n",
    "   a. **Bonferroni Correction**:\n",
    "      - Adjust the p-values using Bonferroni correction.\n",
    "      - Determine the number of significant tests at a given alpha, e.g., 0.05.\n",
    "   \n",
    "   b. **False Discovery Rate (FDR) Control**:\n",
    "      - Use an FDR control method, like Benjamini-Hochberg, to adjust the p-values.\n",
    "      - Identify the number of significant tests at a chosen q-value threshold, e.g., 0.05.\n",
    "   \n",
    "6. **Evaluate Test Power**:\n",
    "   - Based on the true simulated effects and the test results, compute the power, representing the proportion of true positives out of all positives.\n",
    "   \n",
    "7. **Visualize Results**:\n",
    "   \n",
    "   a. **QQ Plots**:\n",
    "      - Generate QQ plots for raw p-values and for those adjusted using each correction method.\n",
    "\n",
    "By following these steps, we'll simulate data under the alternative hypothesis, apply multiple testing corrections, and evaluate their outcomes in the context of genetic studies.\n"
   ]
  },
  {
   "cell_type": "code",
   "execution_count": 80,
   "id": "791ba6b7-8382-4e2e-8a90-31a25fd34a16",
   "metadata": {},
   "outputs": [],
   "source": [
    "# Parameters\n",
    "N = 500\n",
    "iterations = 10000\n",
    "maf = 0.3\n",
    "genotype_variance = 0.01"
   ]
  },
  {
   "cell_type": "code",
   "execution_count": 81,
   "id": "f2fd187f-8a79-422c-b7f5-988248cb724c",
   "metadata": {},
   "outputs": [
    {
     "name": "stderr",
     "output_type": "stream",
     "text": [
      "100%|████████████████████████████████████████████████████████████████████████████████████████████████████████████████| 10000/10000 [00:04<00:00, 2338.91it/s]\n"
     ]
    }
   ],
   "source": [
    "# Initializing list for p-values\n",
    "p_values = []\n",
    "\n",
    "# Progress loop\n",
    "for _ in tqdm(range(iterations)):\n",
    "    # Generate random genetic variant (0, 1, or 2)\n",
    "    g = np.random.binomial(2, maf, (N, 1))\n",
    "    \n",
    "    # Simulate phenotype under the null\n",
    "    y = simulate_phenotype(g, genotype_variance, N)\n",
    "    \n",
    "    # Generate random covariates (For simplicity, let's consider an intercept term only)\n",
    "    F = np.ones((N, 1))\n",
    "    \n",
    "    # Perform the likelihood ratio test and store the p-value\n",
    "    p_values.append(lrt_test(y, F, g)[-1])"
   ]
  },
  {
   "cell_type": "code",
   "execution_count": 82,
   "id": "8a86cc06-dad4-4226-a72c-3663d0eccc01",
   "metadata": {},
   "outputs": [
    {
     "data": {
      "image/png": "[encoded data removed]",
      "text/plain": [
       "<Figure size 360x360 with 1 Axes>"
      ]
     },
     "metadata": {
      "needs_background": "light"
     },
     "output_type": "display_data"
    }
   ],
   "source": [
    "# Plot histogram of p-values\n",
    "plt.figure(figsize=(5,5))\n",
    "plt.hist(p_values, bins=30, edgecolor='k', alpha=0.65, density=True)\n",
    "plt.xlabel('P-value')\n",
    "plt.ylabel('Frequency')\n",
    "plt.title('Histogram of P-values Under the Null')\n",
    "plt.grid(True, which='both', linestyle='--', linewidth=0.5)\n",
    "plt.show()"
   ]
  },
  {
   "cell_type": "code",
   "execution_count": 83,
   "id": "d278a4dd-ced6-43ee-ad98-1802235b00a3",
   "metadata": {},
   "outputs": [
    {
     "data": {
      "image/png": "[encoded data removed]",
      "text/plain": [
       "<Figure size 360x360 with 1 Axes>"
      ]
     },
     "metadata": {
      "needs_background": "light"
     },
     "output_type": "display_data"
    }
   ],
   "source": [
    "# QQ plot\n",
    "plt.figure(figsize=(5,5))\n",
    "ax = plt.subplot(111)\n",
    "plt.title('QQ-plot of P-values')\n",
    "qq_plot(ax, p_values)\n",
    "plt.show()"
   ]
  },
  {
   "cell_type": "code",
   "execution_count": 87,
   "id": "1a591a65-ce8f-464c-ac03-22632c02a253",
   "metadata": {},
   "outputs": [
    {
     "name": "stdout",
     "output_type": "stream",
     "text": [
      "Number of significant associations using Bonferroni correction: 96/10000 (power = 0.0096)\n",
      "Number of significant associations using FDR control: 4967/10000 (power = 0.4967)\n"
     ]
    }
   ],
   "source": [
    "alpha = 0.05\n",
    "\n",
    "# Multiple testing corrections\n",
    "rejected_bonferroni, pvals_bonferroni, _, _ = multipletests(p_values, alpha=alpha, method='bonferroni')\n",
    "rejected_fdr, pvals_fdr, _, _ = multipletests(p_values, alpha=alpha, method='fdr_bh')\n",
    "\n",
    "# Number of discoveries\n",
    "num_discoveries_bonferroni = sum(rejected_bonferroni)\n",
    "num_discoveries_fdr = sum(rejected_fdr)\n",
    "\n",
    "# Results\n",
    "print(f\"Number of significant associations using Bonferroni correction: {num_discoveries_bonferroni}/{iterations} (power = {num_discoveries_bonferroni/iterations})\")\n",
    "print(f\"Number of significant associations using FDR control: {num_discoveries_fdr}/{iterations} (power = {num_discoveries_fdr/iterations})\")"
   ]
  },
  {
   "cell_type": "markdown",
   "id": "7bf075bb-6c63-4a6f-99d4-eeff7d219c15",
   "metadata": {},
   "source": [
    "## Power Analysis\n",
    "\n",
    "### Introduction\n",
    "\n",
    "Power analysis allows us to determine the probability that a statistical test will detect an effect when there is an effect to be detected. In the context of genetic association studies, this means evaluating the likelihood of detecting a true association between a genetic variant and a phenotype. \n",
    "\n",
    "### Task 1: Defining the `compute_power` Function\n",
    "\n",
    "**Function**: `compute_power`\n",
    "\n",
    "**Description**:  \n",
    "This function simulates datasets and calculates the power of a statistical test to detect an association between a genetic variant and a phenotype. It does this by comparing the p-values obtained from the tests to a significance threshold, after adjusting for multiple testing.\n",
    "\n",
    "**Input**:  \n",
    "- `N`: Sample size (e.g., 500)\n",
    "- `maf`: Minor allele frequency, which defines the frequency of the less common allele (e.g., 0.1)\n",
    "- `genotype_variance`: Variance explained by the genetic variant (e.g., 0.01)\n",
    "- `iterations`: Number of simulations (e.g., 1000)\n",
    "\n",
    "**Output**:\n",
    "- `power_bonferroni`: Power after adjusting p-values using the Bonferroni correction.\n",
    "- `power_fdr`: Power after adjusting p-values using the False Discovery Rate (FDR) method.\n",
    "\n",
    "### Task 2: Power Assessment\n",
    "\n",
    "Using the `compute_power` function, you'll assess the statistical power as a function of:\n",
    "\n",
    "1. **Sample Size**:\n",
    "   - Default values to start: `N = [200, 500, 1000, 2000]`\n",
    "   - Keep `maf` and `genotype_variance` constant.\n",
    "\n",
    "2. **Allele Frequency**:\n",
    "   - Default values to start: `maf = [0.05, 0.1, 0.2, 0.3]`\n",
    "   - Keep `N` and `genotype_variance` constant.\n",
    "\n",
    "3. **Genotype Variance**:\n",
    "   - Default values to start: `genotype_variance = [0.005, 0.01, 0.02, 0.05]`\n",
    "   - Keep `N` and `maf` constant.\n",
    "\n",
    "For each parameter set in the above scenarios, loop through its values, use the `compute_power` function, and visualize the power using bar plots. This will allow you to see how power changes as a function of sample size, allele frequency, and genotype variance.\n"
   ]
  },
  {
   "cell_type": "code",
   "execution_count": 92,
   "id": "f3c3e32d-9955-4707-a03e-32cce7adfb11",
   "metadata": {},
   "outputs": [],
   "source": [
    "def compute_power(N, maf, genotype_variance, iterations):\n",
    "    # Simulate phenotypes and genotypes for the specified number of iterations\n",
    "    p_values = []\n",
    "    for _ in range(iterations):\n",
    "        genotype = np.random.binomial(2, maf, (N, 1))\n",
    "        phenotype = simulate_phenotype(genotype, genotype_variance, N)\n",
    "        F = np.ones((N, 1))\n",
    "        pval = lrt_test(phenotype, F, genotype)[-1]\n",
    "        p_values.append(pval)\n",
    "\n",
    "    # Apply multiple testing corrections\n",
    "    rejected_bonferroni, _, _, _ = multipletests(p_values, alpha=alpha, method='bonferroni')\n",
    "    rejected_fdr, _, _, _ = multipletests(p_values, alpha=alpha, method='fdr_bh')\n",
    "\n",
    "    # Compute power for each correction method\n",
    "    power_bonferroni = sum(rejected_bonferroni) / iterations\n",
    "    power_fdr = sum(rejected_fdr) / iterations\n",
    "\n",
    "    return power_bonferroni, power_fdr"
   ]
  },
  {
   "cell_type": "markdown",
   "id": "befd66fd-8822-448a-a7dc-89a51f341d6e",
   "metadata": {},
   "source": [
    "#### Varying sample size"
   ]
  },
  {
   "cell_type": "code",
   "execution_count": 97,
   "id": "1d5a68b3-7eee-46b3-9705-636a5cbf50ed",
   "metadata": {},
   "outputs": [
    {
     "name": "stderr",
     "output_type": "stream",
     "text": [
      "100%|██████████████████████████████████████████████████████████████████████████████████████████████████████████████████████████| 4/4 [00:01<00:00,  2.18it/s]\n"
     ]
    },
    {
     "data": {
      "image/png": "[encoded data removed]",
      "text/plain": [
       "<Figure size 720x432 with 1 Axes>"
      ]
     },
     "metadata": {
      "needs_background": "light"
     },
     "output_type": "display_data"
    }
   ],
   "source": [
    "# Parameters\n",
    "Ns = [200, 500, 1000, 2000]\n",
    "maf = 0.1\n",
    "genotype_variance = 0.01\n",
    "iterations = 1000\n",
    "\n",
    "# Initialize lists to store power values\n",
    "power_bonferroni_list = []\n",
    "power_fdr_list = []\n",
    "\n",
    "# Compute power for each sample size\n",
    "for n in tqdm(Ns):\n",
    "    power_bonferroni, power_fdr = compute_power(n, maf, genotype_variance, iterations)\n",
    "    power_bonferroni_list.append(power_bonferroni)\n",
    "    power_fdr_list.append(power_fdr)\n",
    "    \n",
    "# Create a DataFrame for visualization\n",
    "df = pd.DataFrame({\n",
    "    'Sample Size': Ns * 2,\n",
    "    'Power': power_bonferroni_list + power_fdr_list,\n",
    "    'Method': ['Bonferroni'] * len(Ns) + ['FDR'] * len(Ns)\n",
    "})\n",
    "\n",
    "# Use Seaborn to plot\n",
    "plt.figure(figsize=(10,6))\n",
    "sns.set_style(\"whitegrid\")\n",
    "ax = sns.barplot(x='Sample Size', y='Power', hue='Method', data=df)\n",
    "ax.yaxis.grid(True)  # Adds horizontal gridlines\n",
    "ax.set_axisbelow(True)  # Puts the gridlines behind the bars\n",
    "plt.title('Power vs. Sample Size for Bonferroni and FDR')\n",
    "plt.show()"
   ]
  },
  {
   "cell_type": "markdown",
   "id": "48dd4879-6129-47b1-9b8d-8a7adf7dd7a6",
   "metadata": {},
   "source": [
    "#### Varying allele frequency"
   ]
  },
  {
   "cell_type": "code",
   "execution_count": 104,
   "id": "51c84b9f-55ba-4420-8d07-05ce252d3765",
   "metadata": {},
   "outputs": [
    {
     "name": "stderr",
     "output_type": "stream",
     "text": [
      "100%|██████████████████████████████████████████████████████████████████████████████████████████████████████████████████████████| 4/4 [00:01<00:00,  2.33it/s]\n"
     ]
    },
    {
     "data": {
      "image/png": "[encoded data removed]",
      "text/plain": [
       "<Figure size 720x432 with 1 Axes>"
      ]
     },
     "metadata": {},
     "output_type": "display_data"
    }
   ],
   "source": [
    "# Parameters\n",
    "N = 500\n",
    "maf_values = [0.05, 0.1, 0.2, 0.5]\n",
    "genotype_variance = 0.01\n",
    "iterations = 1000\n",
    "\n",
    "power_data = []\n",
    "\n",
    "# Loop over allele frequencies\n",
    "for maf in tqdm(maf_values):\n",
    "    power_bonferroni, power_fdr = compute_power(N, maf, genotype_variance, iterations)\n",
    "    \n",
    "    power_data.append({'Allele Frequency': maf, 'Power': power_bonferroni, 'Method': 'Bonferroni'})\n",
    "    power_data.append({'Allele Frequency': maf, 'Power': power_fdr, 'Method': 'FDR'})\n",
    "\n",
    "# Convert to DataFrame\n",
    "df = pd.DataFrame(power_data)\n",
    "\n",
    "# Use Seaborn to plot\n",
    "plt.figure(figsize=(10,6))\n",
    "sns.set_style(\"whitegrid\")\n",
    "ax = sns.barplot(x='Allele Frequency', y='Power', hue='Method', data=df)\n",
    "ax.yaxis.grid(True)  # Adds horizontal gridlines\n",
    "ax.set_axisbelow(True)  # Puts the gridlines behind the bars\n",
    "plt.title('Power vs. Allele Frequency for Bonferroni and FDR')\n",
    "plt.show()"
   ]
  },
  {
   "cell_type": "markdown",
   "id": "3210acd8-5d83-4882-b79d-b4b08e49753b",
   "metadata": {},
   "source": [
    "#### Varying genotype variance"
   ]
  },
  {
   "cell_type": "code",
   "execution_count": null,
   "id": "2bfdda18-c7cc-4a7e-b2ac-569323a13dad",
   "metadata": {},
   "outputs": [
    {
     "name": "stderr",
     "output_type": "stream",
     "text": [
      "100%|██████████████████████████████████████████████████████████████████████████████████████████████████████████████████████████| 4/4 [00:01<00:00,  2.33it/s]\n"
     ]
    },
    {
     "data": {
      "image/png": "[encoded data removed]",
      "text/plain": [
       "<Figure size 720x432 with 1 Axes>"
      ]
     },
     "metadata": {},
     "output_type": "display_data"
    }
   ],
   "source": [
    "# Parameters\n",
    "N = 500\n",
    "maf = 0.1\n",
    "genotype_variance_values = [0.005, 0.01, 0.02, 0.05]\n",
    "iterations = 1000\n",
    "\n",
    "power_data = []\n",
    "\n",
    "# Loop over genotype variances\n",
    "for genotype_variance in tqdm(genotype_variance_values):\n",
    "    power_bonferroni, power_fdr = compute_power(N, maf, genotype_variance, iterations)\n",
    "    \n",
    "    power_data.append({'Genotype Variance': genotype_variance, 'Power': power_bonferroni, 'Method': 'Bonferroni'})\n",
    "    power_data.append({'Genotype Variance': genotype_variance, 'Power': power_fdr, 'Method': 'FDR'})\n",
    "\n",
    "# Convert to DataFrame\n",
    "df = pd.DataFrame(power_data)\n",
    "\n",
    "# Use Seaborn to plot\n",
    "plt.figure(figsize=(10,6))\n",
    "sns.set_style(\"whitegrid\")\n",
    "ax = sns.barplot(x='Genotype Variance', y='Power', hue='Method', data=df)\n",
    "ax.yaxis.grid(True)  # Adds horizontal gridlines\n",
    "ax.set_axisbelow(True)  # Puts the gridlines behind the bars\n",
    "plt.title('Power vs. Genotype Variance for Bonferroni and FDR')\n",
    "plt.show()"
   ]
  }
 ],
 "metadata": {
  "kernelspec": {
   "display_name": "Python 3 (ipykernel)",
   "language": "python",
   "name": "python3"
  },
  "language_info": {
   "codemirror_mode": {
    "name": "ipython",
    "version": 3
   },
   "file_extension": ".py",
   "mimetype": "text/x-python",
   "name": "python",
   "nbconvert_exporter": "python",
   "pygments_lexer": "ipython3",
   "version": "3.9.7"
  }
 },
 "nbformat": 4,
 "nbformat_minor": 5
}
