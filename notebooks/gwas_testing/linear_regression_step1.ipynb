{
 "cells": [
  {
   "cell_type": "code",
   "execution_count": 1,
   "id": "0f639cd1-1b63-4e0f-adb3-13389e9ef860",
   "metadata": {},
   "outputs": [],
   "source": [
    "import numpy as np\n",
    "import pdb\n",
    "from pandas_plink import read_plink\n",
    "from limix_lmm import LMM\n",
    "import matplotlib.pyplot as plt\n",
    "import pandas as pd\n",
    "import scipy.stats as st\n",
    "import statsmodels.api as sm\n",
    "from sklearn.preprocessing import StandardScaler\n",
    "from tqdm import tqdm\n",
    "from statsmodels.stats.multitest import multipletests\n",
    "import seaborn as sns"
   ]
  },
  {
   "cell_type": "markdown",
   "id": "f8305d7b-9df9-4b5f-8383-ff99223ddfa8",
   "metadata": {},
   "source": [
    "## Linear regression"
   ]
  },
  {
   "cell_type": "markdown",
   "id": "a63629f8-7d32-4db2-9435-6938ed2c6c59",
   "metadata": {},
   "source": [
    "#### Generate data"
   ]
  },
  {
   "cell_type": "code",
   "execution_count": 41,
   "id": "6b6e1e79-bc3d-4c7c-87e4-bd55e89c71a6",
   "metadata": {},
   "outputs": [],
   "source": [
    "# Define the sample size and number of covariates\n",
    "N = 5000\n",
    "K = 3\n",
    "\n",
    "# Generate the covariate matrix and the true effect sizes\n",
    "X = np.hstack([np.ones((N, 1)), np.random.randn(N, K)])\n",
    "\n",
    "beta_true = np.linspace(0.1, 0.4, K+1)\n",
    "\n",
    "# Generate the phenotype\n",
    "y = X.dot(beta_true) + np.random.randn(N)"
   ]
  },
  {
   "cell_type": "markdown",
   "id": "536826a1-412b-46b6-98b8-0b27b8ee0bab",
   "metadata": {},
   "source": [
    "Compute MLE for beta and sigma^2 and the log marginal likelihood of the model.\n",
    "\n",
    "Parameters:\n",
    "- y: observed data\n",
    "- X: design matrix with covariates (without intercept)\n",
    "\n",
    "Returns:\n",
    "- beta_hat: MLE of beta\n",
    "- sigma2_hat: MLE of sigma squared\n",
    "- log_marginal_likelihood: log marginal likelihood of the model"
   ]
  },
  {
   "cell_type": "code",
   "execution_count": 42,
   "id": "43c9eb6f-5047-484b-b0b2-684c701fd077",
   "metadata": {},
   "outputs": [],
   "source": [
    "def compute_MLE_and_LML(y, X):\n",
    "    \"\"\"\n",
    "    Compute MLE for beta and sigma^2, standard errors for beta, \n",
    "    and the log marginal likelihood of the model.\n",
    "    \n",
    "    Parameters:\n",
    "    - y: observed data\n",
    "    - X: design matrix with covariates\n",
    "    \n",
    "    Returns:\n",
    "    - beta_hat: MLE of beta\n",
    "    - beta_se: Standard errors for beta\n",
    "    - sigma2_hat: MLE of sigma squared\n",
    "    - log_marginal_likelihood: log marginal likelihood of the model\n",
    "    \"\"\""
   ]
  }
 ],
 "metadata": {
  "kernelspec": {
   "display_name": "Python 3 (ipykernel)",
   "language": "python",
   "name": "python3"
  },
  "language_info": {
   "codemirror_mode": {
    "name": "ipython",
    "version": 3
   },
   "file_extension": ".py",
   "mimetype": "text/x-python",
   "name": "python",
   "nbconvert_exporter": "python",
   "pygments_lexer": "ipython3",
   "version": "3.9.7"
  }
 },
 "nbformat": 4,
 "nbformat_minor": 5
}
