{
 "cells": [
  {
   "cell_type": "code",
   "execution_count": 94,
   "id": "0f639cd1-1b63-4e0f-adb3-13389e9ef860",
   "metadata": {},
   "outputs": [],
   "source": [
    "import numpy as np\n",
    "import pdb\n",
    "from pandas_plink import read_plink\n",
    "from limix_lmm import LMM\n",
    "import matplotlib.pyplot as plt\n",
    "import pandas as pd\n",
    "import scipy.stats as st\n",
    "import statsmodels.api as sm\n",
    "from sklearn.preprocessing import StandardScaler\n",
    "from tqdm import tqdm\n",
    "from statsmodels.stats.multitest import multipletests\n",
    "import seaborn as sns"
   ]
  },
  {
   "cell_type": "markdown",
   "id": "f8305d7b-9df9-4b5f-8383-ff99223ddfa8",
   "metadata": {},
   "source": [
    "## Linear regression"
   ]
  },
  {
   "cell_type": "markdown",
   "id": "a63629f8-7d32-4db2-9435-6938ed2c6c59",
   "metadata": {},
   "source": [
    "#### Generate data"
   ]
  },
  {
   "cell_type": "code",
   "execution_count": 41,
   "id": "6b6e1e79-bc3d-4c7c-87e4-bd55e89c71a6",
   "metadata": {},
   "outputs": [],
   "source": [
    "# Define the sample size and number of covariates\n",
    "N = 5000\n",
    "K = 3\n",
    "\n",
    "# Generate the covariate matrix and the true effect sizes\n",
    "X = np.hstack([np.ones((N, 1)), np.random.randn(N, K)])\n",
    "\n",
    "beta_true = np.linspace(0.1, 0.4, K+1)\n",
    "\n",
    "# Generate the phenotype\n",
    "y = X.dot(beta_true) + np.random.randn(N)"
   ]
  },
  {
   "cell_type": "markdown",
   "id": "536826a1-412b-46b6-98b8-0b27b8ee0bab",
   "metadata": {},
   "source": [
    "Compute MLE for beta and sigma^2 and the log marginal likelihood of the model.\n",
    "\n",
    "Parameters:\n",
    "- y: observed data\n",
    "- X: design matrix with covariates (without intercept)\n",
    "\n",
    "Returns:\n",
    "- beta_hat: MLE of beta\n",
    "- sigma2_hat: MLE of sigma squared\n",
    "- log_marginal_likelihood: log marginal likelihood of the model"
   ]
  },
  {
   "cell_type": "code",
   "execution_count": 42,
   "id": "43c9eb6f-5047-484b-b0b2-684c701fd077",
   "metadata": {},
   "outputs": [],
   "source": [
    "def compute_MLE_and_LML(y, X):\n",
    "    \"\"\"\n",
    "    Compute MLE for beta and sigma^2, standard errors for beta, \n",
    "    and the log marginal likelihood of the model.\n",
    "    \n",
    "    Parameters:\n",
    "    - y: observed data\n",
    "    - X: design matrix with covariates\n",
    "    \n",
    "    Returns:\n",
    "    - beta_hat: MLE of beta\n",
    "    - beta_se: Standard errors for beta\n",
    "    - sigma2_hat: MLE of sigma squared\n",
    "    - log_marginal_likelihood: log marginal likelihood of the model\n",
    "    \"\"\"\n",
    "    \n",
    "    # Compute MLE for beta using the closed-form solution\n",
    "    beta_hat = np.linalg.inv(X.T.dot(X)).dot(X.T).dot(y)\n",
    "    \n",
    "    # Compute residuals\n",
    "    residuals = y - X.dot(beta_hat)\n",
    "    \n",
    "    # Compute MLE for sigma squared (variance of the residuals)\n",
    "    sigma2_hat = residuals.T.dot(residuals) / len(y)\n",
    "    \n",
    "    # Compute standard errors for beta_hat\n",
    "    beta_se = np.sqrt(sigma2_hat * np.diag(np.linalg.inv(X.T.dot(X))))\n",
    "    \n",
    "    # Compute the log marginal likelihood of the model\n",
    "    log_marginal_likelihood = np.sum(st.norm.logpdf(y, loc=X.dot(beta_hat), scale=np.sqrt(sigma2_hat)))\n",
    "    \n",
    "    return beta_hat, beta_se, sigma2_hat, log_marginal_likelihood"
   ]
  },
  {
   "cell_type": "code",
   "execution_count": 43,
   "id": "7958670f-1a13-47a5-bfca-018c59da72ef",
   "metadata": {},
   "outputs": [],
   "source": [
    "# Add a bias term (intercept) to X\n",
    "beta_hat, beta_se, sigma2_hat, lml = compute_MLE_and_LML(y, X)"
   ]
  },
  {
   "cell_type": "code",
   "execution_count": 44,
   "id": "1817a568-a352-4d7e-893b-c6e841bcf41b",
   "metadata": {},
   "outputs": [
    {
     "name": "stdout",
     "output_type": "stream",
     "text": [
      "MLE of effect size (beta): [0.11634087 0.21388185 0.29901934 0.39236173]\n",
      "Standard errors of effect size (beta_se): [0.01423916 0.01439681 0.01416831 0.01405056]\n",
      "MLE of residual variance (sigma2): 1.0137\n",
      "LML: -7128.6637\n"
     ]
    }
   ],
   "source": [
    "print(f\"MLE of effect size (beta):\", beta_hat)\n",
    "print(f\"Standard errors of effect size (beta_se):\", beta_se)\n",
    "print(f\"MLE of residual variance (sigma2): {sigma2_hat:.4f}\")\n",
    "print(f\"LML: {lml:.4f}\")"
   ]
  },
  {
   "cell_type": "markdown",
   "id": "f292dc89-cc54-401e-babc-084685b8fd20",
   "metadata": {},
   "source": [
    "* Plot Estimated vs True Beta with Standrd errors\n",
    "* What happens if you increase sample size? $500\\longrightarrow{1000}\\longrightarrow{5000}$"
   ]
  },
  {
   "cell_type": "code",
   "execution_count": 46,
   "id": "c969f77b-c035-4227-88d3-5b2c82c85771",
   "metadata": {},
   "outputs": [
    {
     "data": {
      "image/png": "[encoded data removed]",
      "text/plain": [
       "<Figure size 576x432 with 1 Axes>"
      ]
     },
     "metadata": {
      "needs_background": "light"
     },
     "output_type": "display_data"
    }
   ],
   "source": [
    "# Create scatter plot\n",
    "plt.figure(figsize=(8, 6))\n",
    "plt.errorbar(beta_true, beta_hat, yerr=beta_se, fmt='o', color='blue', ecolor='red', capsize=5)\n",
    "plt.plot([min(beta_true), max(beta_true)], [min(beta_true), max(beta_true)], 'k--', lw=1)  # Diagonal line for reference\n",
    "\n",
    "plt.xlabel('True Beta Values')\n",
    "plt.ylabel('Estimated Beta Values')\n",
    "plt.title('True vs Estimated Beta Coefficients')\n",
    "plt.tight_layout()\n",
    "\n",
    "plt.show()"
   ]
  },
  {
   "cell_type": "markdown",
   "id": "3151a863-0fed-401a-80f5-917da17a448a",
   "metadata": {},
   "source": [
    "## Linear models for genetics"
   ]
  },
  {
   "cell_type": "markdown",
   "id": "e3137726-7883-4892-a9f7-384ac58e233d",
   "metadata": {},
   "source": [
    "**Objectives:**\n",
    "- **Given \\(N=500\\) samples:**\n",
    "    1. Generate age, sex, and one genotype.\n",
    "    2. Generate a phenotype as a linear function of age and sex (null model).\n",
    "- **Build a lrt_test function:**\n",
    "    1. Function should take as input: phenotype, covariates (age and sex), and genotype vector.\n",
    "    2. Returns should include: effect size (beta), standard error (se), and p-value."
   ]
  },
  {
   "cell_type": "markdown",
   "id": "33a10805-0056-45db-8450-40a1e0dac122",
   "metadata": {},
   "source": [
    "#### Generate data"
   ]
  },
  {
   "cell_type": "code",
   "execution_count": 52,
   "id": "9d91ce75-7f49-4e85-80c2-629406a5b5b2",
   "metadata": {},
   "outputs": [],
   "source": [
    "# Set seed for reproducibility\n",
    "np.random.seed(42)\n",
    "\n",
    "# Number of samples\n",
    "N = 500\n",
    "\n",
    "# Generate random age between 20 and 80\n",
    "age = np.random.randint(20, 80, (N, 1))\n",
    "\n",
    "# Generate random sex (0 = male, 1 = female)\n",
    "sex = np.random.randint(0, 2, (N, 1))\n",
    "\n",
    "# Generate random genotype (0, 1, or 2) using binomial with 2 trials and specified allele frequency\n",
    "maf = 0.3 # minor allele frequency\n",
    "genotype = np.random.binomial(2, p, (N, 1))\n",
    "\n",
    "# Generate phenotype\n",
    "variance_age = 0.10\n",
    "variance_sex = 0.10\n",
    "variance_genotype = 0.\n",
    "variance_noise = 1 - variance_age - variance_sex - variance_genotype\n",
    "phenotype = np.sqrt(variance_age) * StandardScaler().fit_transform(age)\n",
    "phenotype+= np.sqrt(variance_sex) * StandardScaler().fit_transform(sex)\n",
    "phenotype+= np.sqrt(variance_genotype) * StandardScaler().fit_transform(genotype)\n",
    "phenotype+= np.sqrt(variance_noise) * np.random.normal(0, 1, (N, 1))"
   ]
  },
  {
   "cell_type": "code",
   "execution_count": 54,
   "id": "6059fca8-0bf4-49ae-a88c-8e3258ac3587",
   "metadata": {},
   "outputs": [],
   "source": [
    "# final data\n",
    "F = np.column_stack((np.ones(N), age, sex))\n",
    "g = genotype\n",
    "y = phenotype"
   ]
  },
  {
   "cell_type": "code",
   "execution_count": 61,
   "id": "39e75292-3fb5-4fc6-ac59-d5d71954e1d1",
   "metadata": {},
   "outputs": [],
   "source": [
    "def lrt_test(y, F, g):\n",
    "    \"\"\"\n",
    "    Conducts a likelihood ratio test for a given genotype and set of covariates.\n",
    "    \n",
    "    Parameters:\n",
    "    - y: observed data (phenotype)\n",
    "    - F: design matrix for null model (covariates without genotype)\n",
    "    - g: genotype data\n",
    "    \n",
    "    Returns:\n",
    "    - beta_geno: Effect size of genotype under the alternative model\n",
    "    - beta_se_geno: Standard error of the effect size of genotype under the alternative model\n",
    "    - p_value: p-value from the likelihood ratio test\n",
    "    \"\"\""
   ]
  }
 ],
 "metadata": {
  "kernelspec": {
   "display_name": "Python 3 (ipykernel)",
   "language": "python",
   "name": "python3"
  },
  "language_info": {
   "codemirror_mode": {
    "name": "ipython",
    "version": 3
   },
   "file_extension": ".py",
   "mimetype": "text/x-python",
   "name": "python",
   "nbconvert_exporter": "python",
   "pygments_lexer": "ipython3",
   "version": "3.9.7"
  }
 },
 "nbformat": 4,
 "nbformat_minor": 5
}
